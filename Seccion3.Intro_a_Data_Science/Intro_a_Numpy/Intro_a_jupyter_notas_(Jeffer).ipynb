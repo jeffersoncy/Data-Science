{
 "cells": [
  {
   "cell_type": "code",
   "execution_count": 1,
   "id": "cdb6f83b",
   "metadata": {},
   "outputs": [
    {
     "name": "stdout",
     "output_type": "stream",
     "text": [
      "hola!\n"
     ]
    }
   ],
   "source": [
    "print(\"hola!\")"
   ]
  },
  {
   "cell_type": "code",
   "execution_count": 2,
   "id": "87f30c1b",
   "metadata": {},
   "outputs": [
    {
     "name": "stdout",
     "output_type": "stream",
     "text": [
      "ho\n",
      "la\n",
      "<class 'list'>\n"
     ]
    }
   ],
   "source": [
    "lista = ['ho','la']\n",
    "for palabra in lista:\n",
    "    print(palabra)\n",
    "\n",
    "print(type(lista))"
   ]
  },
  {
   "cell_type": "code",
   "execution_count": 3,
   "id": "7b9be7b4",
   "metadata": {},
   "outputs": [],
   "source": [
    "#**Esto va en negrita**\n",
    "#*Esto va en cursiva*\n",
    "\n",
    "### Introducción a Jupyther\n",
    "\n",
    "#- Elemento 1\n",
    "#  - Elemento 1.1\n",
    "    "
   ]
  },
  {
   "cell_type": "code",
   "execution_count": 4,
   "id": "de81eae1",
   "metadata": {},
   "outputs": [],
   "source": [
    "import matplotlib.pyplot as plt"
   ]
  },
  {
   "cell_type": "code",
   "execution_count": 5,
   "id": "d6a4149b",
   "metadata": {},
   "outputs": [],
   "source": [
    "#el ? al final es para conocer la ayuda de la libreria\n",
    "#plt? "
   ]
  },
  {
   "cell_type": "code",
   "execution_count": 6,
   "id": "8a44fc6e",
   "metadata": {},
   "outputs": [],
   "source": [
    "#%load_ext watermark\n",
    "#%watermark"
   ]
  },
  {
   "cell_type": "code",
   "execution_count": 7,
   "id": "8c8b0969",
   "metadata": {},
   "outputs": [
    {
     "name": "stdout",
     "output_type": "stream",
     "text": [
      "Collecting package metadata (current_repodata.json): ...working... done\n",
      "Solving environment: ...working... done\n",
      "\n",
      "# All requested packages already installed.\n",
      "\n"
     ]
    },
    {
     "name": "stderr",
     "output_type": "stream",
     "text": [
      "\n",
      "\n",
      "==> WARNING: A newer version of conda exists. <==\n",
      "  current version: 23.3.1\n",
      "  latest version: 23.5.0\n",
      "\n",
      "Please update conda by running\n",
      "\n",
      "    $ conda update -n base -c defaults conda\n",
      "\n",
      "Or to minimize the number of packages updated during conda update use\n",
      "\n",
      "     conda install conda=23.5.0\n",
      "\n",
      "\n"
     ]
    }
   ],
   "source": [
    "import sys\n",
    "!conda install --yes --prefix {sys.prefix} numpy"
   ]
  },
  {
   "cell_type": "code",
   "execution_count": 8,
   "id": "b1a6835c",
   "metadata": {},
   "outputs": [],
   "source": [
    "import requests"
   ]
  },
  {
   "cell_type": "code",
   "execution_count": 9,
   "id": "77e61cd3",
   "metadata": {},
   "outputs": [],
   "source": [
    "import sys"
   ]
  },
  {
   "cell_type": "code",
   "execution_count": 10,
   "id": "de96c536",
   "metadata": {},
   "outputs": [
    {
     "name": "stdout",
     "output_type": "stream",
     "text": [
      "Requirement already satisfied: requests in c:\\users\\jefer\\anaconda3\\lib\\site-packages (2.28.1)\n",
      "Requirement already satisfied: idna<4,>=2.5 in c:\\users\\jefer\\anaconda3\\lib\\site-packages (from requests) (3.4)\n",
      "Requirement already satisfied: certifi>=2017.4.17 in c:\\users\\jefer\\anaconda3\\lib\\site-packages (from requests) (2023.5.7)\n",
      "Requirement already satisfied: urllib3<1.27,>=1.21.1 in c:\\users\\jefer\\anaconda3\\lib\\site-packages (from requests) (1.26.14)\n",
      "Requirement already satisfied: charset-normalizer<3,>=2 in c:\\users\\jefer\\anaconda3\\lib\\site-packages (from requests) (2.0.4)\n"
     ]
    }
   ],
   "source": [
    "import sys\n",
    "!{sys.executable} -m pip install requests"
   ]
  },
  {
   "cell_type": "code",
   "execution_count": 11,
   "id": "64fb8cee",
   "metadata": {},
   "outputs": [],
   "source": [
    "import sys\n",
    "import numpy as np"
   ]
  },
  {
   "cell_type": "code",
   "execution_count": 12,
   "id": "f979ebd1",
   "metadata": {},
   "outputs": [
    {
     "data": {
      "text/plain": [
       "numpy.ndarray"
      ]
     },
     "execution_count": 12,
     "metadata": {},
     "output_type": "execute_result"
    }
   ],
   "source": [
    "array_id = np.array([4.5, 3])\n",
    "type(array_id)"
   ]
  },
  {
   "cell_type": "code",
   "execution_count": 13,
   "id": "b5d05d98",
   "metadata": {},
   "outputs": [
    {
     "data": {
      "text/plain": [
       "(2,)"
      ]
     },
     "execution_count": 13,
     "metadata": {},
     "output_type": "execute_result"
    }
   ],
   "source": [
    "array_id.shape"
   ]
  },
  {
   "cell_type": "code",
   "execution_count": 14,
   "id": "26639a2e",
   "metadata": {},
   "outputs": [],
   "source": [
    "matriz = np.array([\n",
    "    [1,2,3],\n",
    "    [4,5,6]\n",
    "])"
   ]
  },
  {
   "cell_type": "code",
   "execution_count": 15,
   "id": "f0f2f2de",
   "metadata": {},
   "outputs": [
    {
     "data": {
      "text/plain": [
       "array([[1, 2, 3],\n",
       "       [4, 5, 6]])"
      ]
     },
     "execution_count": 15,
     "metadata": {},
     "output_type": "execute_result"
    }
   ],
   "source": [
    "matriz"
   ]
  },
  {
   "cell_type": "code",
   "execution_count": 16,
   "id": "517dc6cd",
   "metadata": {},
   "outputs": [
    {
     "data": {
      "text/plain": [
       "2"
      ]
     },
     "execution_count": 16,
     "metadata": {},
     "output_type": "execute_result"
    }
   ],
   "source": [
    "matriz.ndim"
   ]
  },
  {
   "cell_type": "code",
   "execution_count": 17,
   "id": "d0a25e77",
   "metadata": {},
   "outputs": [
    {
     "data": {
      "text/plain": [
       "(2, 3)"
      ]
     },
     "execution_count": 17,
     "metadata": {},
     "output_type": "execute_result"
    }
   ],
   "source": [
    "matriz.shape"
   ]
  },
  {
   "cell_type": "code",
   "execution_count": 18,
   "id": "cffe224b",
   "metadata": {},
   "outputs": [
    {
     "data": {
      "text/plain": [
       "array([[0., 0.],\n",
       "       [0., 0.],\n",
       "       [0., 0.]])"
      ]
     },
     "execution_count": 18,
     "metadata": {},
     "output_type": "execute_result"
    }
   ],
   "source": [
    "np.zeros((3,2))"
   ]
  },
  {
   "cell_type": "code",
   "execution_count": 19,
   "id": "40d69b81",
   "metadata": {},
   "outputs": [
    {
     "data": {
      "text/plain": [
       "array([1., 1.])"
      ]
     },
     "execution_count": 19,
     "metadata": {},
     "output_type": "execute_result"
    }
   ],
   "source": [
    "np.ones((2))"
   ]
  },
  {
   "cell_type": "code",
   "execution_count": 20,
   "id": "c06bd809",
   "metadata": {},
   "outputs": [
    {
     "data": {
      "text/plain": [
       "array([[1., 0., 0.],\n",
       "       [0., 1., 0.],\n",
       "       [0., 0., 1.]])"
      ]
     },
     "execution_count": 20,
     "metadata": {},
     "output_type": "execute_result"
    }
   ],
   "source": [
    "np.eye(3)"
   ]
  },
  {
   "cell_type": "code",
   "execution_count": 21,
   "id": "dc0c57bc",
   "metadata": {},
   "outputs": [
    {
     "data": {
      "text/plain": [
       "array([[0.54705971, 0.12022903, 0.70946045],\n",
       "       [0.97917652, 0.06848578, 0.33516476]])"
      ]
     },
     "execution_count": 21,
     "metadata": {},
     "output_type": "execute_result"
    }
   ],
   "source": [
    "np.random.random((2,3))"
   ]
  },
  {
   "cell_type": "code",
   "execution_count": 22,
   "id": "78aa2b00",
   "metadata": {},
   "outputs": [
    {
     "name": "stdout",
     "output_type": "stream",
     "text": [
      "1,2,3\n",
      "43, 2,3\n",
      "34,1,1\n",
      "0,1,1\n"
     ]
    }
   ],
   "source": [
    "!type np_text.txt"
   ]
  },
  {
   "cell_type": "code",
   "execution_count": 24,
   "id": "3723757f",
   "metadata": {},
   "outputs": [
    {
     "data": {
      "text/plain": [
       "array([[ 1.,  2.,  3.],\n",
       "       [43.,  2.,  3.],\n",
       "       [34.,  1.,  1.],\n",
       "       [ 0.,  1.,  1.]])"
      ]
     },
     "execution_count": 24,
     "metadata": {},
     "output_type": "execute_result"
    }
   ],
   "source": [
    "np_text = np.genfromtxt(\"np_text.txt\", delimiter=\",\")\n",
    "np_text"
   ]
  },
  {
   "cell_type": "code",
   "execution_count": 26,
   "id": "609eb67f",
   "metadata": {},
   "outputs": [],
   "source": [
    "lista_2d = [[1,2,3], [4,5,6]]\n",
    "array_2d = np.array ([[1,2,3], [4,5,6]])"
   ]
  },
  {
   "cell_type": "code",
   "execution_count": 27,
   "id": "e975bb35",
   "metadata": {},
   "outputs": [
    {
     "data": {
      "text/plain": [
       "72"
      ]
     },
     "execution_count": 27,
     "metadata": {},
     "output_type": "execute_result"
    }
   ],
   "source": [
    "sys.getsizeof(lista_2d)"
   ]
  },
  {
   "cell_type": "code",
   "execution_count": 28,
   "id": "f18e1caf",
   "metadata": {},
   "outputs": [
    {
     "data": {
      "text/plain": [
       "152"
      ]
     },
     "execution_count": 28,
     "metadata": {},
     "output_type": "execute_result"
    }
   ],
   "source": [
    "sys.getsizeof(array_2d)"
   ]
  },
  {
   "cell_type": "code",
   "execution_count": 29,
   "id": "fa1c4ea1",
   "metadata": {},
   "outputs": [],
   "source": [
    "big_lista = list(range(1000000))\n",
    "big_array = np.array(range(1000000))"
   ]
  },
  {
   "cell_type": "code",
   "execution_count": 30,
   "id": "32fad75d",
   "metadata": {},
   "outputs": [
    {
     "data": {
      "text/plain": [
       "8000056"
      ]
     },
     "execution_count": 30,
     "metadata": {},
     "output_type": "execute_result"
    }
   ],
   "source": [
    "sys.getsizeof(big_lista)"
   ]
  },
  {
   "cell_type": "code",
   "execution_count": 31,
   "id": "b317da9c",
   "metadata": {},
   "outputs": [
    {
     "data": {
      "text/plain": [
       "4000112"
      ]
     },
     "execution_count": 31,
     "metadata": {},
     "output_type": "execute_result"
    }
   ],
   "source": [
    "sys.getsizeof(big_array)"
   ]
  },
  {
   "cell_type": "code",
   "execution_count": 34,
   "id": "7782eda3",
   "metadata": {},
   "outputs": [
    {
     "name": "stdout",
     "output_type": "stream",
     "text": [
      "40.9 ms ± 3.85 ms per loop (mean ± std. dev. of 7 runs, 10 loops each)\n"
     ]
    }
   ],
   "source": [
    "%%timeit\n",
    "\n",
    "sum(range(1000000))"
   ]
  },
  {
   "cell_type": "code",
   "execution_count": 36,
   "id": "b9b27bca",
   "metadata": {},
   "outputs": [
    {
     "name": "stdout",
     "output_type": "stream",
     "text": [
      "1.38 ms ± 32.5 µs per loop (mean ± std. dev. of 7 runs, 1,000 loops each)\n"
     ]
    }
   ],
   "source": [
    "%%timeit\n",
    "np.sum(np.arange(1000000))"
   ]
  },
  {
   "cell_type": "code",
   "execution_count": 38,
   "id": "01cc4bf7",
   "metadata": {},
   "outputs": [
    {
     "data": {
      "text/plain": [
       "dtype('int32')"
      ]
     },
     "execution_count": 38,
     "metadata": {},
     "output_type": "execute_result"
    }
   ],
   "source": [
    "np.array([1.0, 5.4], dtype=int).dtype"
   ]
  },
  {
   "cell_type": "code",
   "execution_count": 39,
   "id": "d9586169",
   "metadata": {},
   "outputs": [
    {
     "data": {
      "text/plain": [
       "array(['1.0', '2.0', 'patata'], dtype='<U32')"
      ]
     },
     "execution_count": 39,
     "metadata": {},
     "output_type": "execute_result"
    }
   ],
   "source": [
    "#array de strings\n",
    "np.array([1.0, 2.0, \"patata\"])"
   ]
  },
  {
   "cell_type": "code",
   "execution_count": 40,
   "id": "9687b6ca",
   "metadata": {},
   "outputs": [
    {
     "name": "stdout",
     "output_type": "stream",
     "text": [
      "29.2 ms ± 342 µs per loop (mean ± std. dev. of 7 runs, 10 loops each)\n"
     ]
    }
   ],
   "source": [
    "%%timeit\n",
    "[\"{}\".format(i) for i in range(100000)]"
   ]
  },
  {
   "cell_type": "code",
   "execution_count": 41,
   "id": "655ce2ec",
   "metadata": {},
   "outputs": [],
   "source": [
    "f = np.vectorize(lambda x: \"{}\".format(x))"
   ]
  },
  {
   "cell_type": "code",
   "execution_count": 42,
   "id": "36408651",
   "metadata": {},
   "outputs": [
    {
     "name": "stdout",
     "output_type": "stream",
     "text": [
      "56.8 ms ± 302 µs per loop (mean ± std. dev. of 7 runs, 10 loops each)\n"
     ]
    }
   ],
   "source": [
    "#array de strings, en este caso numpy no es tan eficiente como un array de python\n",
    "%%timeit\n",
    "f(np.arange(100000))"
   ]
  },
  {
   "cell_type": "code",
   "execution_count": 48,
   "id": "82c7d93c",
   "metadata": {},
   "outputs": [
    {
     "data": {
      "text/plain": [
       "array([[ 1,  2,  3,  4],\n",
       "       [ 5,  6,  7,  8],\n",
       "       [ 9, 10, 11, 12]])"
      ]
     },
     "execution_count": 48,
     "metadata": {},
     "output_type": "execute_result"
    }
   ],
   "source": [
    "matriz_3X4 = np.array([\n",
    "    [1,2,3,4], [5,6,7,8], [9,10,11,12]\n",
    "])\n",
    "matriz_3X4"
   ]
  },
  {
   "cell_type": "code",
   "execution_count": 44,
   "id": "085b3982",
   "metadata": {},
   "outputs": [
    {
     "data": {
      "text/plain": [
       "array([1, 2, 3, 4])"
      ]
     },
     "execution_count": 44,
     "metadata": {},
     "output_type": "execute_result"
    }
   ],
   "source": [
    "#trae el primer elemento\n",
    "matriz_3X4[0]"
   ]
  },
  {
   "cell_type": "code",
   "execution_count": 46,
   "id": "d44f0cee",
   "metadata": {},
   "outputs": [
    {
     "data": {
      "text/plain": [
       "array([[1, 2, 3, 4],\n",
       "       [5, 6, 7, 8]])"
      ]
     },
     "execution_count": 46,
     "metadata": {},
     "output_type": "execute_result"
    }
   ],
   "source": [
    "matriz_3X4[:2]"
   ]
  },
  {
   "cell_type": "code",
   "execution_count": 47,
   "id": "d4263777",
   "metadata": {},
   "outputs": [
    {
     "data": {
      "text/plain": [
       "array([ 2,  6, 10])"
      ]
     },
     "execution_count": 47,
     "metadata": {},
     "output_type": "execute_result"
    }
   ],
   "source": [
    "#de cada elemento en la lista o fila traer el segundo valor de cada una de ellas (posicion en la lista) \n",
    "matriz_3X4[:,1]"
   ]
  },
  {
   "cell_type": "code",
   "execution_count": 49,
   "id": "97c7f913",
   "metadata": {},
   "outputs": [
    {
     "data": {
      "text/plain": [
       "6"
      ]
     },
     "execution_count": 49,
     "metadata": {},
     "output_type": "execute_result"
    }
   ],
   "source": [
    "#Segundo elemento de la segunda fila\n",
    "matriz_3X4[1,1]"
   ]
  },
  {
   "cell_type": "code",
   "execution_count": 55,
   "id": "b154db9b",
   "metadata": {},
   "outputs": [
    {
     "name": "stdout",
     "output_type": "stream",
     "text": [
      "8\n"
     ]
    },
    {
     "data": {
      "text/plain": [
       "array([[ 1,  2,  3,  4],\n",
       "       [ 5,  6,  7,  8],\n",
       "       [ 9, 10, 11, 12]])"
      ]
     },
     "execution_count": 55,
     "metadata": {},
     "output_type": "execute_result"
    }
   ],
   "source": [
    "#en este caso, no se modifica el valor de la fila seleccionado en la matriz\n",
    "seleccion = matriz_3X4[1,3]\n",
    "print(seleccion)\n",
    "seleccion=100\n",
    "matriz_3X4"
   ]
  },
  {
   "cell_type": "code",
   "execution_count": 56,
   "id": "cb58cb1f",
   "metadata": {},
   "outputs": [
    {
     "data": {
      "text/plain": [
       "array([[100,   2,   3,   4],\n",
       "       [  5,   6,   7,   8],\n",
       "       [  9,  10,  11,  12]])"
      ]
     },
     "execution_count": 56,
     "metadata": {},
     "output_type": "execute_result"
    }
   ],
   "source": [
    "#sin embargo, al utilizar : (dos puntos) en vez de , (coma) y accedemos a un valor en una fila con el fin de reasignar dicho valor\n",
    "#este va a cambiar tambien en la matriz por lo que no estamos haciendo una copia como en el ejemplo anterior\n",
    "#tener mucho cuidado\n",
    "seleccion = matriz_3X4[:2]\n",
    "seleccion\n",
    "seleccion[0,0] = 100\n",
    "matriz_3X4"
   ]
  },
  {
   "cell_type": "code",
   "execution_count": 57,
   "id": "a5093055",
   "metadata": {},
   "outputs": [
    {
     "data": {
      "text/plain": [
       "array([[1, 4],\n",
       "       [2, 4],\n",
       "       [5, 0]])"
      ]
     },
     "execution_count": 57,
     "metadata": {},
     "output_type": "execute_result"
    }
   ],
   "source": [
    "#proceso de filtrado\n",
    "matriz_3X2 = np.array([\n",
    "    [1, 4], [2, 4], [5, 0]\n",
    "])\n",
    "matriz_3X2"
   ]
  },
  {
   "cell_type": "code",
   "execution_count": 58,
   "id": "50568785",
   "metadata": {},
   "outputs": [
    {
     "data": {
      "text/plain": [
       "array([[False,  True],\n",
       "       [False,  True],\n",
       "       [ True, False]])"
      ]
     },
     "execution_count": 58,
     "metadata": {},
     "output_type": "execute_result"
    }
   ],
   "source": [
    "#filtro elementos mayor a 2\n",
    "indice_filtrado = matriz_3X2 > 2\n",
    "indice_filtrado"
   ]
  },
  {
   "cell_type": "code",
   "execution_count": 59,
   "id": "436e580f",
   "metadata": {},
   "outputs": [
    {
     "data": {
      "text/plain": [
       "array([4, 4, 5])"
      ]
     },
     "execution_count": 59,
     "metadata": {},
     "output_type": "execute_result"
    }
   ],
   "source": [
    "#se puede utilizar la variable como condicion para obtener solo los valores que los cumplan\n",
    "matriz_3X2[indice_filtrado]"
   ]
  },
  {
   "cell_type": "code",
   "execution_count": 66,
   "id": "a9d35235",
   "metadata": {},
   "outputs": [],
   "source": [
    "#operaciones entre arrays de numpy\n",
    "array1 = np.array([[1,2], [3,4]])\n",
    "array2 = np.array([[23, 5], [3, 0]])"
   ]
  },
  {
   "cell_type": "code",
   "execution_count": 67,
   "id": "b8991cbb",
   "metadata": {},
   "outputs": [
    {
     "data": {
      "text/plain": [
       "array([[24,  7],\n",
       "       [ 6,  4]])"
      ]
     },
     "execution_count": 67,
     "metadata": {},
     "output_type": "execute_result"
    }
   ],
   "source": [
    "array1 + array2"
   ]
  },
  {
   "cell_type": "code",
   "execution_count": 68,
   "id": "0bcda7f5",
   "metadata": {},
   "outputs": [
    {
     "data": {
      "text/plain": [
       "array([[23, 10],\n",
       "       [ 9,  0]])"
      ]
     },
     "execution_count": 68,
     "metadata": {},
     "output_type": "execute_result"
    }
   ],
   "source": [
    "array1 * array2"
   ]
  },
  {
   "cell_type": "code",
   "execution_count": 69,
   "id": "93f7efe8",
   "metadata": {},
   "outputs": [
    {
     "data": {
      "text/plain": [
       "array([[29,  5],\n",
       "       [81, 15]])"
      ]
     },
     "execution_count": 69,
     "metadata": {},
     "output_type": "execute_result"
    }
   ],
   "source": [
    "#multiplicación matricial\n",
    "array1 @ array2"
   ]
  },
  {
   "cell_type": "code",
   "execution_count": 70,
   "id": "97a56f1f",
   "metadata": {},
   "outputs": [
    {
     "data": {
      "text/plain": [
       "array([[29,  5],\n",
       "       [81, 15]])"
      ]
     },
     "execution_count": 70,
     "metadata": {},
     "output_type": "execute_result"
    }
   ],
   "source": [
    "array1.dot(array2)"
   ]
  },
  {
   "cell_type": "code",
   "execution_count": null,
   "id": "ef083495",
   "metadata": {},
   "outputs": [],
   "source": []
  }
 ],
 "metadata": {
  "kernelspec": {
   "display_name": "Python 3 (ipykernel)",
   "language": "python",
   "name": "python3"
  },
  "language_info": {
   "codemirror_mode": {
    "name": "ipython",
    "version": 3
   },
   "file_extension": ".py",
   "mimetype": "text/x-python",
   "name": "python",
   "nbconvert_exporter": "python",
   "pygments_lexer": "ipython3",
   "version": "3.10.9"
  }
 },
 "nbformat": 4,
 "nbformat_minor": 5
}
