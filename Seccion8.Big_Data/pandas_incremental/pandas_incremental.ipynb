{
 "cells": [
  {
   "cell_type": "code",
   "execution_count": 2,
   "metadata": {},
   "outputs": [
    {
     "name": "stdout",
     "output_type": "stream",
     "text": [
      "2019-05-23T10:12:50+01:00\n",
      "\n",
      "CPython 3.6.8\n",
      "IPython 7.5.0\n",
      "\n",
      "compiler   : GCC 7.3.0\n",
      "system     : Linux\n",
      "release    : 4.15.0-50-generic\n",
      "machine    : x86_64\n",
      "processor  : x86_64\n",
      "CPU cores  : 8\n",
      "interpreter: 64bit\n"
     ]
    }
   ],
   "source": [
    "%load_ext watermark\n",
    "%watermark"
   ]
  },
  {
   "cell_type": "markdown",
   "metadata": {},
   "source": [
    "## Usando Pandas de forma iterativa para procesar datasets medianos (Medium Data)\n",
    "\n",
    "Podemos usar pandas de forma iterativa para procesar un dataset linea por linea. Ésto sólo se puede hacer para aquellos formatos de datos donde se pueden leer bloques de forma independiente (por ejemplo csv).\n",
    "\n",
    "Generalmente, para poder procesar datasets de forma iterativa tenemos que pensar en la forma de poder obtener información mediante la partición del dataset en trozos más pequeños (más manejables)."
   ]
  },
  {
   "cell_type": "markdown",
   "metadata": {},
   "source": [
    "Vamos a trabajar con el dataset [NYC taxi trips dataset 2014](https://data.cityofnewyork.us/Transportation/2014-Yellow-Taxi-Trip-Data/gkne-dk5s) que incluye informacion sobre TODOS los trayectos en taxi en la ciudad de nueva york en 2014. \n",
    "\n",
    "Vamos a trabajar con un dataset reducido (obtenido de [aquí](https://www.kaggle.com/kentonnlp/2014-new-york-city-taxi-trips) para no tener que gastar mucho espacio."
   ]
  },
  {
   "cell_type": "code",
   "execution_count": 3,
   "metadata": {},
   "outputs": [
    {
     "name": "stdout",
     "output_type": "stream",
     "text": [
      "total 13G\r\n",
      "drwxrwxrwx 1 root root 4.0K May 22 11:37 \u001b[0m\u001b[34;42m.\u001b[0m/\r\n",
      "drwxrwxrwx 1 root root 4.0K May 21 16:38 \u001b[34;42m..\u001b[0m/\r\n",
      "drwxrwxrwx 1 root root  64K May 22 11:47 \u001b[34;42m2017_Yellow_Taxi_Trip_Data.2.parquet\u001b[0m/\r\n",
      "-rwxrwxrwx 1 root root 9.9G Feb  1 13:49 \u001b[01;32m2017_Yellow_Taxi_Trip_Data.csv\u001b[0m*\r\n",
      "drwxrwxrwx 1 root root  32K Feb 19 10:12 \u001b[34;42m2017_Yellow_Taxi_Trip_Data.parquet\u001b[0m/\r\n",
      "drwxrwxrwx 1 root root 8.0K Mar  4 09:43 \u001b[34;42mcoste_npasajeros_2017.csv\u001b[0m/\r\n",
      "-rwxrwxrwx 1 root root 2.4G Jul 20  2017 \u001b[01;32mnyc_taxi_data_2014.csv\u001b[0m*\r\n",
      "drwxrwxrwx 1 root root 8.0K May 21 19:49 \u001b[34;42mnyc_taxi_data_2014.parquet\u001b[0m/\r\n",
      "-rwxrwxrwx 1 root root 770K May 14  2018 \u001b[01;32mposts.jl\u001b[0m*\r\n"
     ]
    }
   ],
   "source": [
    "ls -alh ../data"
   ]
  },
  {
   "cell_type": "markdown",
   "metadata": {},
   "source": [
    "Vemos que el archivo `nyc_taxi_data_2014.csv` ocupa 2.4 Gigabytes, este dataset es moderadamente grande, esto significa que si hacemos:\n",
    "    \n",
    "`taxi_2014 = pd.read_csv(\"../data/nyc_taxi_data_2014.csv\")`\n",
    "Es posible que nuestro ordenador explote (nos daria un `OutOfMemoryError`) al intentar almacenar en la memoria (RAM) de nuestro ordenador todo el dataset."
   ]
  },
  {
   "cell_type": "markdown",
   "metadata": {},
   "source": [
    "La función `read_csv` tiene un argumento `nrows` que carga solo las n primeras lineas del dataset, esto nos permite inspeccionar un dataset grande sin quedarnos sin memoria."
   ]
  },
  {
   "cell_type": "code",
   "execution_count": 4,
   "metadata": {},
   "outputs": [],
   "source": [
    "import pandas as pd\n",
    "\n",
    "path_dataset = \"../data/nyc_taxi_data_2014.csv\"\n",
    "taxi_2014 = pd.read_csv(path_dataset, nrows=1000)"
   ]
  },
  {
   "cell_type": "code",
   "execution_count": 5,
   "metadata": {},
   "outputs": [
    {
     "data": {
      "text/plain": [
       "(1000, 18)"
      ]
     },
     "execution_count": 5,
     "metadata": {},
     "output_type": "execute_result"
    }
   ],
   "source": [
    "taxi_2014.shape"
   ]
  },
  {
   "cell_type": "code",
   "execution_count": 6,
   "metadata": {},
   "outputs": [
    {
     "data": {
      "text/html": [
       "<div>\n",
       "<style scoped>\n",
       "    .dataframe tbody tr th:only-of-type {\n",
       "        vertical-align: middle;\n",
       "    }\n",
       "\n",
       "    .dataframe tbody tr th {\n",
       "        vertical-align: top;\n",
       "    }\n",
       "\n",
       "    .dataframe thead th {\n",
       "        text-align: right;\n",
       "    }\n",
       "</style>\n",
       "<table border=\"1\" class=\"dataframe\">\n",
       "  <thead>\n",
       "    <tr style=\"text-align: right;\">\n",
       "      <th></th>\n",
       "      <th>vendor_id</th>\n",
       "      <th>pickup_datetime</th>\n",
       "      <th>dropoff_datetime</th>\n",
       "      <th>passenger_count</th>\n",
       "      <th>trip_distance</th>\n",
       "      <th>pickup_longitude</th>\n",
       "      <th>pickup_latitude</th>\n",
       "      <th>rate_code</th>\n",
       "      <th>store_and_fwd_flag</th>\n",
       "      <th>dropoff_longitude</th>\n",
       "      <th>dropoff_latitude</th>\n",
       "      <th>payment_type</th>\n",
       "      <th>fare_amount</th>\n",
       "      <th>surcharge</th>\n",
       "      <th>mta_tax</th>\n",
       "      <th>tip_amount</th>\n",
       "      <th>tolls_amount</th>\n",
       "      <th>total_amount</th>\n",
       "    </tr>\n",
       "  </thead>\n",
       "  <tbody>\n",
       "    <tr>\n",
       "      <th>0</th>\n",
       "      <td>CMT</td>\n",
       "      <td>2014-01-09 20:45:25</td>\n",
       "      <td>2014-01-09 20:52:31</td>\n",
       "      <td>1</td>\n",
       "      <td>0.7</td>\n",
       "      <td>-73.994770</td>\n",
       "      <td>40.736828</td>\n",
       "      <td>1</td>\n",
       "      <td>N</td>\n",
       "      <td>-73.982227</td>\n",
       "      <td>40.731790</td>\n",
       "      <td>CRD</td>\n",
       "      <td>6.5</td>\n",
       "      <td>0.5</td>\n",
       "      <td>0.5</td>\n",
       "      <td>1.40</td>\n",
       "      <td>0.0</td>\n",
       "      <td>8.90</td>\n",
       "    </tr>\n",
       "    <tr>\n",
       "      <th>1</th>\n",
       "      <td>CMT</td>\n",
       "      <td>2014-01-09 20:46:12</td>\n",
       "      <td>2014-01-09 20:55:12</td>\n",
       "      <td>1</td>\n",
       "      <td>1.4</td>\n",
       "      <td>-73.982392</td>\n",
       "      <td>40.773382</td>\n",
       "      <td>1</td>\n",
       "      <td>N</td>\n",
       "      <td>-73.960449</td>\n",
       "      <td>40.763995</td>\n",
       "      <td>CRD</td>\n",
       "      <td>8.5</td>\n",
       "      <td>0.5</td>\n",
       "      <td>0.5</td>\n",
       "      <td>1.90</td>\n",
       "      <td>0.0</td>\n",
       "      <td>11.40</td>\n",
       "    </tr>\n",
       "    <tr>\n",
       "      <th>2</th>\n",
       "      <td>CMT</td>\n",
       "      <td>2014-01-09 20:44:47</td>\n",
       "      <td>2014-01-09 20:59:46</td>\n",
       "      <td>2</td>\n",
       "      <td>2.3</td>\n",
       "      <td>-73.988570</td>\n",
       "      <td>40.739406</td>\n",
       "      <td>1</td>\n",
       "      <td>N</td>\n",
       "      <td>-73.986626</td>\n",
       "      <td>40.765217</td>\n",
       "      <td>CRD</td>\n",
       "      <td>11.5</td>\n",
       "      <td>0.5</td>\n",
       "      <td>0.5</td>\n",
       "      <td>1.50</td>\n",
       "      <td>0.0</td>\n",
       "      <td>14.00</td>\n",
       "    </tr>\n",
       "    <tr>\n",
       "      <th>3</th>\n",
       "      <td>CMT</td>\n",
       "      <td>2014-01-09 20:44:57</td>\n",
       "      <td>2014-01-09 20:51:40</td>\n",
       "      <td>1</td>\n",
       "      <td>1.7</td>\n",
       "      <td>-73.960213</td>\n",
       "      <td>40.770464</td>\n",
       "      <td>1</td>\n",
       "      <td>N</td>\n",
       "      <td>-73.979863</td>\n",
       "      <td>40.777050</td>\n",
       "      <td>CRD</td>\n",
       "      <td>7.5</td>\n",
       "      <td>0.5</td>\n",
       "      <td>0.5</td>\n",
       "      <td>1.70</td>\n",
       "      <td>0.0</td>\n",
       "      <td>10.20</td>\n",
       "    </tr>\n",
       "    <tr>\n",
       "      <th>4</th>\n",
       "      <td>CMT</td>\n",
       "      <td>2014-01-09 20:47:09</td>\n",
       "      <td>2014-01-09 20:53:32</td>\n",
       "      <td>1</td>\n",
       "      <td>0.9</td>\n",
       "      <td>-73.995371</td>\n",
       "      <td>40.717248</td>\n",
       "      <td>1</td>\n",
       "      <td>N</td>\n",
       "      <td>-73.984367</td>\n",
       "      <td>40.720524</td>\n",
       "      <td>CRD</td>\n",
       "      <td>6.0</td>\n",
       "      <td>0.5</td>\n",
       "      <td>0.5</td>\n",
       "      <td>1.75</td>\n",
       "      <td>0.0</td>\n",
       "      <td>8.75</td>\n",
       "    </tr>\n",
       "  </tbody>\n",
       "</table>\n",
       "</div>"
      ],
      "text/plain": [
       "  vendor_id      pickup_datetime     dropoff_datetime  passenger_count  \\\n",
       "0       CMT  2014-01-09 20:45:25  2014-01-09 20:52:31                1   \n",
       "1       CMT  2014-01-09 20:46:12  2014-01-09 20:55:12                1   \n",
       "2       CMT  2014-01-09 20:44:47  2014-01-09 20:59:46                2   \n",
       "3       CMT  2014-01-09 20:44:57  2014-01-09 20:51:40                1   \n",
       "4       CMT  2014-01-09 20:47:09  2014-01-09 20:53:32                1   \n",
       "\n",
       "   trip_distance  pickup_longitude  pickup_latitude  rate_code  \\\n",
       "0            0.7        -73.994770        40.736828          1   \n",
       "1            1.4        -73.982392        40.773382          1   \n",
       "2            2.3        -73.988570        40.739406          1   \n",
       "3            1.7        -73.960213        40.770464          1   \n",
       "4            0.9        -73.995371        40.717248          1   \n",
       "\n",
       "  store_and_fwd_flag  dropoff_longitude  dropoff_latitude payment_type  \\\n",
       "0                  N         -73.982227         40.731790          CRD   \n",
       "1                  N         -73.960449         40.763995          CRD   \n",
       "2                  N         -73.986626         40.765217          CRD   \n",
       "3                  N         -73.979863         40.777050          CRD   \n",
       "4                  N         -73.984367         40.720524          CRD   \n",
       "\n",
       "   fare_amount  surcharge  mta_tax  tip_amount  tolls_amount  total_amount  \n",
       "0          6.5        0.5      0.5        1.40           0.0          8.90  \n",
       "1          8.5        0.5      0.5        1.90           0.0         11.40  \n",
       "2         11.5        0.5      0.5        1.50           0.0         14.00  \n",
       "3          7.5        0.5      0.5        1.70           0.0         10.20  \n",
       "4          6.0        0.5      0.5        1.75           0.0          8.75  "
      ]
     },
     "execution_count": 6,
     "metadata": {},
     "output_type": "execute_result"
    }
   ],
   "source": [
    "taxi_2014.head()"
   ]
  },
  {
   "cell_type": "markdown",
   "metadata": {},
   "source": [
    "Cómo podemos iterar la lectura de un archivo csv con pandas? \n",
    "\n",
    "Aparte del argumento `nrows` que lee n filas, la función `read_csv` también tiene el argumento `skiprows`, que empieza a leer el archivo saltandose un número determinado de lineas. Con éstos dos argumentos podemos ir leyendo el dataset en bloques (de tamaño nrows) de forma iterativa."
   ]
  },
  {
   "cell_type": "code",
   "execution_count": 7,
   "metadata": {},
   "outputs": [
    {
     "data": {
      "text/html": [
       "<div>\n",
       "<style scoped>\n",
       "    .dataframe tbody tr th:only-of-type {\n",
       "        vertical-align: middle;\n",
       "    }\n",
       "\n",
       "    .dataframe tbody tr th {\n",
       "        vertical-align: top;\n",
       "    }\n",
       "\n",
       "    .dataframe thead th {\n",
       "        text-align: right;\n",
       "    }\n",
       "</style>\n",
       "<table border=\"1\" class=\"dataframe\">\n",
       "  <thead>\n",
       "    <tr style=\"text-align: right;\">\n",
       "      <th></th>\n",
       "      <th>CMT</th>\n",
       "      <th>2014-01-09 17:28:32</th>\n",
       "      <th>2014-01-09 17:41:00</th>\n",
       "      <th>1</th>\n",
       "      <th>1.1000000000000001</th>\n",
       "      <th>-73.995667999999995</th>\n",
       "      <th>40.724729000000004</th>\n",
       "      <th>1.1</th>\n",
       "      <th>N</th>\n",
       "      <th>-73.981593000000004</th>\n",
       "      <th>40.721252999999997</th>\n",
       "      <th>CRD</th>\n",
       "      <th>7.5</th>\n",
       "      <th>1.2</th>\n",
       "      <th>0.5</th>\n",
       "      <th>0.75</th>\n",
       "      <th>0</th>\n",
       "      <th>9.75</th>\n",
       "    </tr>\n",
       "  </thead>\n",
       "  <tbody>\n",
       "    <tr>\n",
       "      <th>0</th>\n",
       "      <td>CMT</td>\n",
       "      <td>2014-01-09 17:27:32</td>\n",
       "      <td>2014-01-09 17:35:34</td>\n",
       "      <td>1</td>\n",
       "      <td>2.0</td>\n",
       "      <td>-74.008188</td>\n",
       "      <td>40.723377</td>\n",
       "      <td>1</td>\n",
       "      <td>N</td>\n",
       "      <td>-73.994775</td>\n",
       "      <td>40.750303</td>\n",
       "      <td>CRD</td>\n",
       "      <td>8.5</td>\n",
       "      <td>1.0</td>\n",
       "      <td>0.5</td>\n",
       "      <td>2.80</td>\n",
       "      <td>0.0</td>\n",
       "      <td>12.80</td>\n",
       "    </tr>\n",
       "    <tr>\n",
       "      <th>1</th>\n",
       "      <td>CMT</td>\n",
       "      <td>2014-01-09 17:26:46</td>\n",
       "      <td>2014-01-09 17:43:06</td>\n",
       "      <td>1</td>\n",
       "      <td>1.8</td>\n",
       "      <td>-73.993096</td>\n",
       "      <td>40.727905</td>\n",
       "      <td>1</td>\n",
       "      <td>N</td>\n",
       "      <td>-73.992715</td>\n",
       "      <td>40.748542</td>\n",
       "      <td>CRD</td>\n",
       "      <td>12.0</td>\n",
       "      <td>1.0</td>\n",
       "      <td>0.5</td>\n",
       "      <td>2.70</td>\n",
       "      <td>0.0</td>\n",
       "      <td>16.20</td>\n",
       "    </tr>\n",
       "    <tr>\n",
       "      <th>2</th>\n",
       "      <td>CMT</td>\n",
       "      <td>2014-01-09 17:34:46</td>\n",
       "      <td>2014-01-09 17:40:23</td>\n",
       "      <td>1</td>\n",
       "      <td>0.9</td>\n",
       "      <td>-73.962903</td>\n",
       "      <td>40.774955</td>\n",
       "      <td>1</td>\n",
       "      <td>N</td>\n",
       "      <td>-73.950876</td>\n",
       "      <td>40.775706</td>\n",
       "      <td>CRD</td>\n",
       "      <td>5.5</td>\n",
       "      <td>1.0</td>\n",
       "      <td>0.5</td>\n",
       "      <td>1.00</td>\n",
       "      <td>0.0</td>\n",
       "      <td>8.00</td>\n",
       "    </tr>\n",
       "    <tr>\n",
       "      <th>3</th>\n",
       "      <td>CMT</td>\n",
       "      <td>2014-01-09 17:36:26</td>\n",
       "      <td>2014-01-09 17:43:00</td>\n",
       "      <td>1</td>\n",
       "      <td>0.9</td>\n",
       "      <td>-73.991148</td>\n",
       "      <td>40.730836</td>\n",
       "      <td>1</td>\n",
       "      <td>N</td>\n",
       "      <td>-73.999496</td>\n",
       "      <td>40.739415</td>\n",
       "      <td>CRD</td>\n",
       "      <td>6.5</td>\n",
       "      <td>1.0</td>\n",
       "      <td>0.5</td>\n",
       "      <td>1.60</td>\n",
       "      <td>0.0</td>\n",
       "      <td>9.60</td>\n",
       "    </tr>\n",
       "    <tr>\n",
       "      <th>4</th>\n",
       "      <td>CMT</td>\n",
       "      <td>2014-01-09 17:34:13</td>\n",
       "      <td>2014-01-09 17:45:27</td>\n",
       "      <td>1</td>\n",
       "      <td>1.6</td>\n",
       "      <td>-73.981936</td>\n",
       "      <td>40.778354</td>\n",
       "      <td>1</td>\n",
       "      <td>N</td>\n",
       "      <td>-73.967661</td>\n",
       "      <td>40.771657</td>\n",
       "      <td>CRD</td>\n",
       "      <td>9.5</td>\n",
       "      <td>1.0</td>\n",
       "      <td>0.5</td>\n",
       "      <td>2.75</td>\n",
       "      <td>0.0</td>\n",
       "      <td>13.75</td>\n",
       "    </tr>\n",
       "  </tbody>\n",
       "</table>\n",
       "</div>"
      ],
      "text/plain": [
       "   CMT  2014-01-09 17:28:32  2014-01-09 17:41:00  1  1.1000000000000001  \\\n",
       "0  CMT  2014-01-09 17:27:32  2014-01-09 17:35:34  1                 2.0   \n",
       "1  CMT  2014-01-09 17:26:46  2014-01-09 17:43:06  1                 1.8   \n",
       "2  CMT  2014-01-09 17:34:46  2014-01-09 17:40:23  1                 0.9   \n",
       "3  CMT  2014-01-09 17:36:26  2014-01-09 17:43:00  1                 0.9   \n",
       "4  CMT  2014-01-09 17:34:13  2014-01-09 17:45:27  1                 1.6   \n",
       "\n",
       "   -73.995667999999995  40.724729000000004  1.1  N  -73.981593000000004  \\\n",
       "0           -74.008188           40.723377    1  N           -73.994775   \n",
       "1           -73.993096           40.727905    1  N           -73.992715   \n",
       "2           -73.962903           40.774955    1  N           -73.950876   \n",
       "3           -73.991148           40.730836    1  N           -73.999496   \n",
       "4           -73.981936           40.778354    1  N           -73.967661   \n",
       "\n",
       "   40.721252999999997  CRD   7.5  1.2  0.5  0.75    0   9.75  \n",
       "0           40.750303  CRD   8.5  1.0  0.5  2.80  0.0  12.80  \n",
       "1           40.748542  CRD  12.0  1.0  0.5  2.70  0.0  16.20  \n",
       "2           40.775706  CRD   5.5  1.0  0.5  1.00  0.0   8.00  \n",
       "3           40.739415  CRD   6.5  1.0  0.5  1.60  0.0   9.60  \n",
       "4           40.771657  CRD   9.5  1.0  0.5  2.75  0.0  13.75  "
      ]
     },
     "execution_count": 7,
     "metadata": {},
     "output_type": "execute_result"
    }
   ],
   "source": [
    "pd.read_csv(path_dataset, nrows=1000, skiprows=1000).head()"
   ]
  },
  {
   "cell_type": "markdown",
   "metadata": {},
   "source": [
    "Vemos que al empezar a leer el csv por la linea 10001, pandas no tiene acceso a la cabecera (header) con los nombres de las columnas. Tenemos que indicarselo a pandas (con el argumento `names` indicamos las columnas y con el argumento `header=None` le decimos a read_csv que la primera linea que lea no son las columnas sino una fila normal."
   ]
  },
  {
   "cell_type": "code",
   "execution_count": 8,
   "metadata": {},
   "outputs": [
    {
     "data": {
      "text/plain": [
       "Index(['vendor_id', 'pickup_datetime', 'dropoff_datetime', 'passenger_count',\n",
       "       'trip_distance', 'pickup_longitude', 'pickup_latitude', 'rate_code',\n",
       "       'store_and_fwd_flag', 'dropoff_longitude', 'dropoff_latitude',\n",
       "       'payment_type', 'fare_amount', 'surcharge', 'mta_tax', 'tip_amount',\n",
       "       'tolls_amount', 'total_amount'],\n",
       "      dtype='object')"
      ]
     },
     "execution_count": 8,
     "metadata": {},
     "output_type": "execute_result"
    }
   ],
   "source": [
    "columnas = pd.read_csv(path_dataset, nrows=10).columns\n",
    "columnas"
   ]
  },
  {
   "cell_type": "markdown",
   "metadata": {},
   "source": [
    "Ahora podemos empezar a leer un bloque de 1000 filas empezando por la fila 10001\n",
    "\n",
    "hacemos 1001 en vez de 1000 dado que la ultima fila del primer bloque coincide con la primera fila del segundo bloque. Para evitar ésto, tenemos que saltar el tamaño de bloque (1000) **más una fila más**"
   ]
  },
  {
   "cell_type": "code",
   "execution_count": 10,
   "metadata": {},
   "outputs": [
    {
     "data": {
      "text/html": [
       "<div>\n",
       "<style scoped>\n",
       "    .dataframe tbody tr th:only-of-type {\n",
       "        vertical-align: middle;\n",
       "    }\n",
       "\n",
       "    .dataframe tbody tr th {\n",
       "        vertical-align: top;\n",
       "    }\n",
       "\n",
       "    .dataframe thead th {\n",
       "        text-align: right;\n",
       "    }\n",
       "</style>\n",
       "<table border=\"1\" class=\"dataframe\">\n",
       "  <thead>\n",
       "    <tr style=\"text-align: right;\">\n",
       "      <th></th>\n",
       "      <th>vendor_id</th>\n",
       "      <th>pickup_datetime</th>\n",
       "      <th>dropoff_datetime</th>\n",
       "      <th>passenger_count</th>\n",
       "      <th>trip_distance</th>\n",
       "      <th>pickup_longitude</th>\n",
       "      <th>pickup_latitude</th>\n",
       "      <th>rate_code</th>\n",
       "      <th>store_and_fwd_flag</th>\n",
       "      <th>dropoff_longitude</th>\n",
       "      <th>dropoff_latitude</th>\n",
       "      <th>payment_type</th>\n",
       "      <th>fare_amount</th>\n",
       "      <th>surcharge</th>\n",
       "      <th>mta_tax</th>\n",
       "      <th>tip_amount</th>\n",
       "      <th>tolls_amount</th>\n",
       "      <th>total_amount</th>\n",
       "    </tr>\n",
       "  </thead>\n",
       "  <tbody>\n",
       "    <tr>\n",
       "      <th>0</th>\n",
       "      <td>CMT</td>\n",
       "      <td>2014-01-09 17:27:32</td>\n",
       "      <td>2014-01-09 17:35:34</td>\n",
       "      <td>1</td>\n",
       "      <td>2.0</td>\n",
       "      <td>-74.008188</td>\n",
       "      <td>40.723377</td>\n",
       "      <td>1</td>\n",
       "      <td>N</td>\n",
       "      <td>-73.994775</td>\n",
       "      <td>40.750303</td>\n",
       "      <td>CRD</td>\n",
       "      <td>8.5</td>\n",
       "      <td>1.0</td>\n",
       "      <td>0.5</td>\n",
       "      <td>2.80</td>\n",
       "      <td>0.0</td>\n",
       "      <td>12.80</td>\n",
       "    </tr>\n",
       "    <tr>\n",
       "      <th>1</th>\n",
       "      <td>CMT</td>\n",
       "      <td>2014-01-09 17:26:46</td>\n",
       "      <td>2014-01-09 17:43:06</td>\n",
       "      <td>1</td>\n",
       "      <td>1.8</td>\n",
       "      <td>-73.993096</td>\n",
       "      <td>40.727905</td>\n",
       "      <td>1</td>\n",
       "      <td>N</td>\n",
       "      <td>-73.992715</td>\n",
       "      <td>40.748542</td>\n",
       "      <td>CRD</td>\n",
       "      <td>12.0</td>\n",
       "      <td>1.0</td>\n",
       "      <td>0.5</td>\n",
       "      <td>2.70</td>\n",
       "      <td>0.0</td>\n",
       "      <td>16.20</td>\n",
       "    </tr>\n",
       "    <tr>\n",
       "      <th>2</th>\n",
       "      <td>CMT</td>\n",
       "      <td>2014-01-09 17:34:46</td>\n",
       "      <td>2014-01-09 17:40:23</td>\n",
       "      <td>1</td>\n",
       "      <td>0.9</td>\n",
       "      <td>-73.962903</td>\n",
       "      <td>40.774955</td>\n",
       "      <td>1</td>\n",
       "      <td>N</td>\n",
       "      <td>-73.950876</td>\n",
       "      <td>40.775706</td>\n",
       "      <td>CRD</td>\n",
       "      <td>5.5</td>\n",
       "      <td>1.0</td>\n",
       "      <td>0.5</td>\n",
       "      <td>1.00</td>\n",
       "      <td>0.0</td>\n",
       "      <td>8.00</td>\n",
       "    </tr>\n",
       "    <tr>\n",
       "      <th>3</th>\n",
       "      <td>CMT</td>\n",
       "      <td>2014-01-09 17:36:26</td>\n",
       "      <td>2014-01-09 17:43:00</td>\n",
       "      <td>1</td>\n",
       "      <td>0.9</td>\n",
       "      <td>-73.991148</td>\n",
       "      <td>40.730836</td>\n",
       "      <td>1</td>\n",
       "      <td>N</td>\n",
       "      <td>-73.999496</td>\n",
       "      <td>40.739415</td>\n",
       "      <td>CRD</td>\n",
       "      <td>6.5</td>\n",
       "      <td>1.0</td>\n",
       "      <td>0.5</td>\n",
       "      <td>1.60</td>\n",
       "      <td>0.0</td>\n",
       "      <td>9.60</td>\n",
       "    </tr>\n",
       "    <tr>\n",
       "      <th>4</th>\n",
       "      <td>CMT</td>\n",
       "      <td>2014-01-09 17:34:13</td>\n",
       "      <td>2014-01-09 17:45:27</td>\n",
       "      <td>1</td>\n",
       "      <td>1.6</td>\n",
       "      <td>-73.981936</td>\n",
       "      <td>40.778354</td>\n",
       "      <td>1</td>\n",
       "      <td>N</td>\n",
       "      <td>-73.967661</td>\n",
       "      <td>40.771657</td>\n",
       "      <td>CRD</td>\n",
       "      <td>9.5</td>\n",
       "      <td>1.0</td>\n",
       "      <td>0.5</td>\n",
       "      <td>2.75</td>\n",
       "      <td>0.0</td>\n",
       "      <td>13.75</td>\n",
       "    </tr>\n",
       "  </tbody>\n",
       "</table>\n",
       "</div>"
      ],
      "text/plain": [
       "  vendor_id      pickup_datetime     dropoff_datetime  passenger_count  \\\n",
       "0       CMT  2014-01-09 17:27:32  2014-01-09 17:35:34                1   \n",
       "1       CMT  2014-01-09 17:26:46  2014-01-09 17:43:06                1   \n",
       "2       CMT  2014-01-09 17:34:46  2014-01-09 17:40:23                1   \n",
       "3       CMT  2014-01-09 17:36:26  2014-01-09 17:43:00                1   \n",
       "4       CMT  2014-01-09 17:34:13  2014-01-09 17:45:27                1   \n",
       "\n",
       "   trip_distance  pickup_longitude  pickup_latitude  rate_code  \\\n",
       "0            2.0        -74.008188        40.723377          1   \n",
       "1            1.8        -73.993096        40.727905          1   \n",
       "2            0.9        -73.962903        40.774955          1   \n",
       "3            0.9        -73.991148        40.730836          1   \n",
       "4            1.6        -73.981936        40.778354          1   \n",
       "\n",
       "  store_and_fwd_flag  dropoff_longitude  dropoff_latitude payment_type  \\\n",
       "0                  N         -73.994775         40.750303          CRD   \n",
       "1                  N         -73.992715         40.748542          CRD   \n",
       "2                  N         -73.950876         40.775706          CRD   \n",
       "3                  N         -73.999496         40.739415          CRD   \n",
       "4                  N         -73.967661         40.771657          CRD   \n",
       "\n",
       "   fare_amount  surcharge  mta_tax  tip_amount  tolls_amount  total_amount  \n",
       "0          8.5        1.0      0.5        2.80           0.0         12.80  \n",
       "1         12.0        1.0      0.5        2.70           0.0         16.20  \n",
       "2          5.5        1.0      0.5        1.00           0.0          8.00  \n",
       "3          6.5        1.0      0.5        1.60           0.0          9.60  \n",
       "4          9.5        1.0      0.5        2.75           0.0         13.75  "
      ]
     },
     "execution_count": 10,
     "metadata": {},
     "output_type": "execute_result"
    }
   ],
   "source": [
    "pd.read_csv(path_dataset, nrows=1000,skiprows=1000+1, header=None, names=columnas).head()"
   ]
  },
  {
   "cell_type": "markdown",
   "metadata": {},
   "source": [
    "Ya tenemos una manera de procesar el dataframe de forma iterativa. Lo único que tenemos que montar es un bucle que itere sobre el dataset y cuando acabe de leerlo (que no lo sabemos de antemano dado que no sabemos el número de filas) que pare.\n",
    "\n",
    "<hr>\n",
    "\n",
    "**¿Cuantas filas tiene el archivo?**\n",
    "\n",
    "Para calcular el numero total de filas del archivosolo tenemos que crear una operacion que cuente el numero de filas en un bloque de datos."
   ]
  },
  {
   "cell_type": "markdown",
   "metadata": {},
   "source": [
    "para facilitarnos la vida, vamos a hacer una funcion que nos ayude a leer bloques del dataset"
   ]
  },
  {
   "cell_type": "code",
   "execution_count": 39,
   "metadata": {},
   "outputs": [
    {
     "data": {
      "text/html": [
       "<div>\n",
       "<style scoped>\n",
       "    .dataframe tbody tr th:only-of-type {\n",
       "        vertical-align: middle;\n",
       "    }\n",
       "\n",
       "    .dataframe tbody tr th {\n",
       "        vertical-align: top;\n",
       "    }\n",
       "\n",
       "    .dataframe thead th {\n",
       "        text-align: right;\n",
       "    }\n",
       "</style>\n",
       "<table border=\"1\" class=\"dataframe\">\n",
       "  <thead>\n",
       "    <tr style=\"text-align: right;\">\n",
       "      <th></th>\n",
       "      <th>vendor_id</th>\n",
       "      <th>pickup_datetime</th>\n",
       "      <th>dropoff_datetime</th>\n",
       "      <th>passenger_count</th>\n",
       "      <th>trip_distance</th>\n",
       "      <th>pickup_longitude</th>\n",
       "      <th>pickup_latitude</th>\n",
       "      <th>rate_code</th>\n",
       "      <th>store_and_fwd_flag</th>\n",
       "      <th>dropoff_longitude</th>\n",
       "      <th>dropoff_latitude</th>\n",
       "      <th>payment_type</th>\n",
       "      <th>fare_amount</th>\n",
       "      <th>surcharge</th>\n",
       "      <th>mta_tax</th>\n",
       "      <th>tip_amount</th>\n",
       "      <th>tolls_amount</th>\n",
       "      <th>total_amount</th>\n",
       "    </tr>\n",
       "  </thead>\n",
       "  <tbody>\n",
       "    <tr>\n",
       "      <th>0</th>\n",
       "      <td>CMT</td>\n",
       "      <td>2014-01-09 20:45:25</td>\n",
       "      <td>2014-01-09 20:52:31</td>\n",
       "      <td>1</td>\n",
       "      <td>0.7</td>\n",
       "      <td>-73.994770</td>\n",
       "      <td>40.736828</td>\n",
       "      <td>1</td>\n",
       "      <td>N</td>\n",
       "      <td>-73.982227</td>\n",
       "      <td>40.731790</td>\n",
       "      <td>CRD</td>\n",
       "      <td>6.5</td>\n",
       "      <td>0.5</td>\n",
       "      <td>0.5</td>\n",
       "      <td>1.40</td>\n",
       "      <td>0</td>\n",
       "      <td>8.90</td>\n",
       "    </tr>\n",
       "    <tr>\n",
       "      <th>1</th>\n",
       "      <td>CMT</td>\n",
       "      <td>2014-01-09 20:46:12</td>\n",
       "      <td>2014-01-09 20:55:12</td>\n",
       "      <td>1</td>\n",
       "      <td>1.4</td>\n",
       "      <td>-73.982392</td>\n",
       "      <td>40.773382</td>\n",
       "      <td>1</td>\n",
       "      <td>N</td>\n",
       "      <td>-73.960449</td>\n",
       "      <td>40.763995</td>\n",
       "      <td>CRD</td>\n",
       "      <td>8.5</td>\n",
       "      <td>0.5</td>\n",
       "      <td>0.5</td>\n",
       "      <td>1.90</td>\n",
       "      <td>0</td>\n",
       "      <td>11.40</td>\n",
       "    </tr>\n",
       "    <tr>\n",
       "      <th>2</th>\n",
       "      <td>CMT</td>\n",
       "      <td>2014-01-09 20:44:47</td>\n",
       "      <td>2014-01-09 20:59:46</td>\n",
       "      <td>2</td>\n",
       "      <td>2.3</td>\n",
       "      <td>-73.988570</td>\n",
       "      <td>40.739406</td>\n",
       "      <td>1</td>\n",
       "      <td>N</td>\n",
       "      <td>-73.986626</td>\n",
       "      <td>40.765217</td>\n",
       "      <td>CRD</td>\n",
       "      <td>11.5</td>\n",
       "      <td>0.5</td>\n",
       "      <td>0.5</td>\n",
       "      <td>1.50</td>\n",
       "      <td>0</td>\n",
       "      <td>14.00</td>\n",
       "    </tr>\n",
       "    <tr>\n",
       "      <th>3</th>\n",
       "      <td>CMT</td>\n",
       "      <td>2014-01-09 20:44:57</td>\n",
       "      <td>2014-01-09 20:51:40</td>\n",
       "      <td>1</td>\n",
       "      <td>1.7</td>\n",
       "      <td>-73.960213</td>\n",
       "      <td>40.770464</td>\n",
       "      <td>1</td>\n",
       "      <td>N</td>\n",
       "      <td>-73.979863</td>\n",
       "      <td>40.777050</td>\n",
       "      <td>CRD</td>\n",
       "      <td>7.5</td>\n",
       "      <td>0.5</td>\n",
       "      <td>0.5</td>\n",
       "      <td>1.70</td>\n",
       "      <td>0</td>\n",
       "      <td>10.20</td>\n",
       "    </tr>\n",
       "    <tr>\n",
       "      <th>4</th>\n",
       "      <td>CMT</td>\n",
       "      <td>2014-01-09 20:47:09</td>\n",
       "      <td>2014-01-09 20:53:32</td>\n",
       "      <td>1</td>\n",
       "      <td>0.9</td>\n",
       "      <td>-73.995371</td>\n",
       "      <td>40.717248</td>\n",
       "      <td>1</td>\n",
       "      <td>N</td>\n",
       "      <td>-73.984367</td>\n",
       "      <td>40.720524</td>\n",
       "      <td>CRD</td>\n",
       "      <td>6.0</td>\n",
       "      <td>0.5</td>\n",
       "      <td>0.5</td>\n",
       "      <td>1.75</td>\n",
       "      <td>0</td>\n",
       "      <td>8.75</td>\n",
       "    </tr>\n",
       "  </tbody>\n",
       "</table>\n",
       "</div>"
      ],
      "text/plain": [
       "  vendor_id      pickup_datetime     dropoff_datetime  passenger_count  \\\n",
       "0       CMT  2014-01-09 20:45:25  2014-01-09 20:52:31                1   \n",
       "1       CMT  2014-01-09 20:46:12  2014-01-09 20:55:12                1   \n",
       "2       CMT  2014-01-09 20:44:47  2014-01-09 20:59:46                2   \n",
       "3       CMT  2014-01-09 20:44:57  2014-01-09 20:51:40                1   \n",
       "4       CMT  2014-01-09 20:47:09  2014-01-09 20:53:32                1   \n",
       "\n",
       "   trip_distance  pickup_longitude  pickup_latitude  rate_code  \\\n",
       "0            0.7        -73.994770        40.736828          1   \n",
       "1            1.4        -73.982392        40.773382          1   \n",
       "2            2.3        -73.988570        40.739406          1   \n",
       "3            1.7        -73.960213        40.770464          1   \n",
       "4            0.9        -73.995371        40.717248          1   \n",
       "\n",
       "  store_and_fwd_flag  dropoff_longitude  dropoff_latitude payment_type  \\\n",
       "0                  N         -73.982227         40.731790          CRD   \n",
       "1                  N         -73.960449         40.763995          CRD   \n",
       "2                  N         -73.986626         40.765217          CRD   \n",
       "3                  N         -73.979863         40.777050          CRD   \n",
       "4                  N         -73.984367         40.720524          CRD   \n",
       "\n",
       "   fare_amount  surcharge  mta_tax  tip_amount  tolls_amount  total_amount  \n",
       "0          6.5        0.5      0.5        1.40             0          8.90  \n",
       "1          8.5        0.5      0.5        1.90             0         11.40  \n",
       "2         11.5        0.5      0.5        1.50             0         14.00  \n",
       "3          7.5        0.5      0.5        1.70             0         10.20  \n",
       "4          6.0        0.5      0.5        1.75             0          8.75  "
      ]
     },
     "execution_count": 39,
     "metadata": {},
     "output_type": "execute_result"
    }
   ],
   "source": [
    "def leer_bloque(filas_bloque, skiprows):\n",
    "    return pd.read_csv(path_dataset, \n",
    "                          nrows=filas_bloque, \n",
    "                          header=None, \n",
    "                          skiprows=skiprows+1, # +1 por el header\n",
    "                          names=columnas,\n",
    "                      )\n",
    "\n",
    "data_block = leer_bloque(filas_bloque=10, skiprows=0)\n",
    "data_block.head()"
   ]
  },
  {
   "cell_type": "markdown",
   "metadata": {},
   "source": [
    "Solo falta el crear la operacion que queremos hacer para cada bloque"
   ]
  },
  {
   "cell_type": "code",
   "execution_count": 14,
   "metadata": {},
   "outputs": [],
   "source": [
    "def n_filas_bloque(bloque):\n",
    "    return bloque.shape[0]"
   ]
  },
  {
   "cell_type": "markdown",
   "metadata": {},
   "source": [
    "Ahora creamos un bucle que lea bloques de datos del archivo hasta que no haya mas, y para cada uno ejecute la funcion que calcula el numero de filas"
   ]
  },
  {
   "cell_type": "code",
   "execution_count": 15,
   "metadata": {},
   "outputs": [
    {
     "name": "stdout",
     "output_type": "stream",
     "text": [
      "0 1000000\n",
      "1 2000000\n",
      "2 3000000\n",
      "3 4000000\n",
      "4 5000000\n",
      "5 6000000\n",
      "6 7000000\n",
      "7 8000000\n",
      "8 9000000\n",
      "9 10000000\n",
      "10 11000000\n",
      "11 12000000\n",
      "12 13000000\n",
      "13 14000000\n"
     ]
    },
    {
     "name": "stderr",
     "output_type": "stream",
     "text": [
      "/home/manuel/anaconda3/envs/data/lib/python3.6/site-packages/IPython/core/magic.py:187: DtypeWarning: Columns (8) have mixed types. Specify dtype option on import or set low_memory=False.\n",
      "  call = lambda f, *a, **k: f(*a, **k)\n"
     ]
    },
    {
     "name": "stdout",
     "output_type": "stream",
     "text": [
      "14 14999999\n",
      "CPU times: user 2min 30s, sys: 7.12 s, total: 2min 37s\n",
      "Wall time: 2min 41s\n"
     ]
    }
   ],
   "source": [
    "%%time\n",
    "filas_bloque = 1000000\n",
    "n_bloque = 0\n",
    "n_total_filas = 0\n",
    "\n",
    "while True:\n",
    "    bloque = leer_bloque(filas_bloque=filas_bloque, skiprows=filas_bloque * n_bloque)\n",
    "    if bloque.empty:\n",
    "        break\n",
    "    else:\n",
    "        n_total_filas+= n_filas_bloque(bloque)\n",
    "    print(n_bloque, n_total_filas)\n",
    "    n_bloque += 1"
   ]
  },
  {
   "cell_type": "code",
   "execution_count": 16,
   "metadata": {},
   "outputs": [
    {
     "data": {
      "text/plain": [
       "14999999"
      ]
     },
     "execution_count": 16,
     "metadata": {},
     "output_type": "execute_result"
    }
   ],
   "source": [
    "n_total_filas"
   ]
  },
  {
   "cell_type": "markdown",
   "metadata": {},
   "source": [
    "Vemos que hay un total de 15 millones de filas"
   ]
  },
  {
   "cell_type": "markdown",
   "metadata": {},
   "source": [
    "<hr>\n",
    "\n",
    "**¿Cuantos trayectos hay por tipo de pago??**\n",
    "\n",
    "\n",
    "Ahora podemos implementar una operacion mas compleja, en la que calculamos el numero total de trayectos por tipo de pago de viaje.\n",
    "\n",
    "\n",
    "La operacion es similar a la que hemos hecho con el calculo de numero de filas. Ahora simplemente tenemos que mantener un diccionario con el numero de filas por tipo de pago y actualizarlo en cada bloque."
   ]
  },
  {
   "cell_type": "markdown",
   "metadata": {},
   "source": [
    "Usamos un `defaultdict` por que no sabemos todos los valores distintos de tipo de pago"
   ]
  },
  {
   "cell_type": "code",
   "execution_count": 34,
   "metadata": {},
   "outputs": [
    {
     "data": {
      "text/plain": [
       "defaultdict(<function __main__.<lambda>()>, {})"
      ]
     },
     "execution_count": 34,
     "metadata": {},
     "output_type": "execute_result"
    }
   ],
   "source": [
    "from collections import defaultdict\n",
    "\n",
    "n_trayectos_tipo_pago = defaultdict(lambda: 0)\n",
    "n_trayectos_tipo_pago"
   ]
  },
  {
   "cell_type": "code",
   "execution_count": 35,
   "metadata": {},
   "outputs": [],
   "source": [
    "def calculo_trayectos_tipo_pago(bloque):\n",
    "    bloque_trayectos_tipo_pago = bloque.payment_type.value_counts().to_dict()\n",
    "    for tipo_pago, n_trayectos in bloque_trayectos_tipo_pago.items():\n",
    "        n_trayectos_tipo_pago[tipo_pago] += n_trayectos"
   ]
  },
  {
   "cell_type": "code",
   "execution_count": 36,
   "metadata": {},
   "outputs": [
    {
     "name": "stdout",
     "output_type": "stream",
     "text": [
      "1000000\n",
      "2000000\n",
      "3000000\n",
      "4000000\n",
      "5000000\n",
      "6000000\n",
      "7000000\n",
      "8000000\n",
      "9000000\n",
      "10000000\n",
      "11000000\n",
      "12000000\n",
      "13000000\n",
      "14000000\n"
     ]
    },
    {
     "name": "stderr",
     "output_type": "stream",
     "text": [
      "/home/manuel/anaconda3/envs/data/lib/python3.6/site-packages/IPython/core/interactiveshell.py:3214: DtypeWarning: Columns (8) have mixed types. Specify dtype option on import or set low_memory=False.\n",
      "  if (yield from self.run_code(code, result)):\n"
     ]
    },
    {
     "name": "stdout",
     "output_type": "stream",
     "text": [
      "15000000\n"
     ]
    }
   ],
   "source": [
    "filas_bloque = 1000000 #reduce el numero en caso de fallo por falta de RAM\n",
    "n_bloque = 0\n",
    "\n",
    "while 1:\n",
    "    bloque = leer_bloque(filas_bloque=filas_bloque, skiprows=filas_bloque * n_bloque)\n",
    "    if bloque.empty:\n",
    "        break\n",
    "    else:\n",
    "        calculo_trayectos_tipo_pago(bloque)\n",
    "    n_bloque += 1\n",
    "    print(n_bloque * filas_bloque)"
   ]
  },
  {
   "cell_type": "code",
   "execution_count": 37,
   "metadata": {},
   "outputs": [
    {
     "data": {
      "text/plain": [
       "defaultdict(<function __main__.<lambda>()>,\n",
       "            {'CSH': 6215019,\n",
       "             'CRD': 8667410,\n",
       "             'NOC': 33737,\n",
       "             'DIS': 9850,\n",
       "             'UNK': 73983})"
      ]
     },
     "execution_count": 37,
     "metadata": {},
     "output_type": "execute_result"
    }
   ],
   "source": [
    "n_trayectos_tipo_pago"
   ]
  },
  {
   "cell_type": "markdown",
   "metadata": {},
   "source": [
    "<hr>\n",
    "\n",
    "**¿Cual es el valor medio de las propinas por tipo de pago?**\n",
    "\n",
    "Esta operacion es más compleja, ya que la media depende de los datos de todo el dataset, no solo de cada bloque. Para calcular la media tenemos que calcular la suma total de propinas para todos los trayectos por tipo de pago y luego dividir por el numero de trayectos por tipo de pago(que acabamos de calcular)"
   ]
  },
  {
   "cell_type": "code",
   "execution_count": 40,
   "metadata": {},
   "outputs": [
    {
     "name": "stdout",
     "output_type": "stream",
     "text": [
      "1000000\n",
      "2000000\n",
      "3000000\n",
      "4000000\n",
      "5000000\n",
      "6000000\n",
      "7000000\n",
      "8000000\n",
      "9000000\n",
      "10000000\n",
      "11000000\n",
      "12000000\n",
      "13000000\n",
      "14000000\n",
      "15000000\n",
      "CPU times: user 2min 53s, sys: 9.65 s, total: 3min 3s\n",
      "Wall time: 3min 3s\n"
     ]
    }
   ],
   "source": [
    "%%time\n",
    "\n",
    "def calculo_propina_tipo_pago(bloque):\n",
    "    tipo_pago_bloque = bloque.groupby(\"payment_type\")[\"tip_amount\"].sum().to_dict()\n",
    "    for tipo_pago, suma_propina in tipo_pago_bloque.items():\n",
    "        suma_propinas_tipo_pago[tipo_pago] += suma_propina\n",
    "        \n",
    "        \n",
    "filas_bloque = 1000000 # iteramos sobre un 1millon a la vez, esto depende de vuestro ordenador\n",
    "n_bloque = 0\n",
    "suma_propinas_tipo_pago = defaultdict(lambda: 0.0) # las propinas tienen decimales\n",
    "\n",
    "while 1:\n",
    "    bloque = leer_bloque(filas_bloque=filas_bloque, skiprows=filas_bloque * n_bloque)\n",
    "    if bloque.empty:\n",
    "        break\n",
    "    else:\n",
    "        n_total_filas = calculo_propina_tipo_pago(bloque)\n",
    "    n_bloque += 1\n",
    "    print(n_bloque * filas_bloque)"
   ]
  },
  {
   "cell_type": "code",
   "execution_count": 41,
   "metadata": {},
   "outputs": [
    {
     "data": {
      "text/plain": [
       "defaultdict(<function __main__.<lambda>()>,\n",
       "            {'CRD': 21674215.160005085,\n",
       "             'CSH': 2040.65,\n",
       "             'DIS': 101.60000000000001,\n",
       "             'NOC': 162.5,\n",
       "             'UNK': 162086.78999999963})"
      ]
     },
     "execution_count": 41,
     "metadata": {},
     "output_type": "execute_result"
    }
   ],
   "source": [
    "suma_propinas_tipo_pago"
   ]
  },
  {
   "cell_type": "markdown",
   "metadata": {},
   "source": [
    "Ahora simplemente dividimos las sumas por el numero de trayectos para obtener la propina media por tipo de pago"
   ]
  },
  {
   "cell_type": "code",
   "execution_count": 42,
   "metadata": {},
   "outputs": [
    {
     "data": {
      "text/plain": [
       "defaultdict(<function __main__.<lambda>()>,\n",
       "            {'CSH': 6215019,\n",
       "             'CRD': 8667410,\n",
       "             'NOC': 33737,\n",
       "             'DIS': 9850,\n",
       "             'UNK': 73983})"
      ]
     },
     "execution_count": 42,
     "metadata": {},
     "output_type": "execute_result"
    }
   ],
   "source": [
    "n_trayectos_tipo_pago"
   ]
  },
  {
   "cell_type": "code",
   "execution_count": 43,
   "metadata": {},
   "outputs": [],
   "source": [
    "propina_media = {}\n",
    "for tipo_pago, suma_propinas in suma_propinas_tipo_pago.items():\n",
    "    propina_media[tipo_pago] = suma_propinas / n_trayectos_tipo_pago[tipo_pago]"
   ]
  },
  {
   "cell_type": "markdown",
   "metadata": {},
   "source": [
    "y ya está!, ya hemos calculado la propina media por tipo de pago sin tener que cargar todo el dataset"
   ]
  },
  {
   "cell_type": "code",
   "execution_count": 44,
   "metadata": {},
   "outputs": [
    {
     "data": {
      "text/plain": [
       "{'CRD': 2.500656500616111,\n",
       " 'CSH': 0.00032834171544769214,\n",
       " 'DIS': 0.010314720812182742,\n",
       " 'NOC': 0.004816670124788807,\n",
       " 'UNK': 2.1908653339280595}"
      ]
     },
     "execution_count": 44,
     "metadata": {},
     "output_type": "execute_result"
    }
   ],
   "source": [
    "propina_media"
   ]
  },
  {
   "cell_type": "markdown",
   "metadata": {},
   "source": [
    "<hr>\n",
    "\n",
    "**Como podemos guardar los trayectos en metalico**\n",
    "\n",
    "Una forma muy sencilla de guardar los trayectos es procesar cada bloque, filtrar lo que nos interesa y guardarlo en otro archivo"
   ]
  },
  {
   "cell_type": "code",
   "execution_count": 58,
   "metadata": {},
   "outputs": [],
   "source": [
    "def escribir_bloque(bloque, output):\n",
    "    bloque.to_csv(output, mode=\"a\", index=False, header=False)\n",
    "\n",
    "def guardar_en_metalico(bloque, output):\n",
    "    bloque_en_metalico = bloque[bloque.payment_type==\"CSH\"]\n",
    "    if not bloque_en_metalico.empty:\n",
    "        escribir_bloque(bloque_en_metalico, output)\n",
    "    return bloque_en_metalico.shape[0]"
   ]
  },
  {
   "cell_type": "markdown",
   "metadata": {},
   "source": [
    "Creamos ahora un archivo de output y escribimos una sola fila con los nombres de las columnas"
   ]
  },
  {
   "cell_type": "code",
   "execution_count": 73,
   "metadata": {},
   "outputs": [],
   "source": [
    "output = \"../data/taxi_2014_en_metalico.csv\"\n",
    "with open(output, \"w\") as fname:\n",
    "    fname.write(\",\".join(columnas))\n",
    "    fname.write(\"\\n\")"
   ]
  },
  {
   "cell_type": "code",
   "execution_count": 74,
   "metadata": {},
   "outputs": [
    {
     "name": "stdout",
     "output_type": "stream",
     "text": [
      "1000000 545819\n",
      "2000000 361613\n",
      "3000000 405678\n",
      "4000000 388565\n",
      "5000000 480235\n",
      "6000000 581422\n",
      "7000000 19362\n",
      "8000000 561960\n",
      "9000000 404067\n",
      "10000000 412082\n",
      "11000000 406424\n",
      "12000000 360718\n",
      "13000000 288054\n",
      "14000000 697524\n",
      "15000000 301496\n",
      "CPU times: user 4min 6s, sys: 10.7 s, total: 4min 17s\n",
      "Wall time: 4min 30s\n"
     ]
    }
   ],
   "source": [
    "%%time\n",
    "\n",
    "filas_bloque = 1000000 # iteramos sobre un 1millon a la vez, esto depende de vuestro ordenador\n",
    "n_bloque = 0\n",
    "    \n",
    "    \n",
    "while 1:\n",
    "    bloque = leer_bloque(filas_bloque=filas_bloque, skiprows=filas_bloque * n_bloque)\n",
    "    if bloque.empty:\n",
    "        break\n",
    "    else:\n",
    "        filas_escritas = guardar_en_metalico(bloque, output)\n",
    "    n_bloque += 1\n",
    "    print(n_bloque * filas_bloque, filas_escritas)"
   ]
  },
  {
   "cell_type": "code",
   "execution_count": 76,
   "metadata": {},
   "outputs": [
    {
     "data": {
      "text/html": [
       "<div>\n",
       "<style scoped>\n",
       "    .dataframe tbody tr th:only-of-type {\n",
       "        vertical-align: middle;\n",
       "    }\n",
       "\n",
       "    .dataframe tbody tr th {\n",
       "        vertical-align: top;\n",
       "    }\n",
       "\n",
       "    .dataframe thead th {\n",
       "        text-align: right;\n",
       "    }\n",
       "</style>\n",
       "<table border=\"1\" class=\"dataframe\">\n",
       "  <thead>\n",
       "    <tr style=\"text-align: right;\">\n",
       "      <th></th>\n",
       "      <th>vendor_id</th>\n",
       "      <th>pickup_datetime</th>\n",
       "      <th>dropoff_datetime</th>\n",
       "      <th>passenger_count</th>\n",
       "      <th>trip_distance</th>\n",
       "      <th>pickup_longitude</th>\n",
       "      <th>pickup_latitude</th>\n",
       "      <th>rate_code</th>\n",
       "      <th>store_and_fwd_flag</th>\n",
       "      <th>dropoff_longitude</th>\n",
       "      <th>dropoff_latitude</th>\n",
       "      <th>payment_type</th>\n",
       "      <th>fare_amount</th>\n",
       "      <th>surcharge</th>\n",
       "      <th>mta_tax</th>\n",
       "      <th>tip_amount</th>\n",
       "      <th>tolls_amount</th>\n",
       "      <th>total_amount</th>\n",
       "    </tr>\n",
       "  </thead>\n",
       "  <tbody>\n",
       "    <tr>\n",
       "      <th>0</th>\n",
       "      <td>VTS</td>\n",
       "      <td>2014-01-20 00:25:00</td>\n",
       "      <td>2014-01-20 00:59:00</td>\n",
       "      <td>6</td>\n",
       "      <td>14.09</td>\n",
       "      <td>-73.991490</td>\n",
       "      <td>40.754865</td>\n",
       "      <td>1</td>\n",
       "      <td>NaN</td>\n",
       "      <td>-73.851190</td>\n",
       "      <td>40.836462</td>\n",
       "      <td>CSH</td>\n",
       "      <td>42.5</td>\n",
       "      <td>0.5</td>\n",
       "      <td>0.5</td>\n",
       "      <td>0.0</td>\n",
       "      <td>0.0</td>\n",
       "      <td>43.5</td>\n",
       "    </tr>\n",
       "    <tr>\n",
       "      <th>1</th>\n",
       "      <td>VTS</td>\n",
       "      <td>2014-01-20 00:59:00</td>\n",
       "      <td>2014-01-20 01:04:00</td>\n",
       "      <td>2</td>\n",
       "      <td>1.46</td>\n",
       "      <td>-73.989547</td>\n",
       "      <td>40.762525</td>\n",
       "      <td>1</td>\n",
       "      <td>NaN</td>\n",
       "      <td>-74.002425</td>\n",
       "      <td>40.744772</td>\n",
       "      <td>CSH</td>\n",
       "      <td>6.5</td>\n",
       "      <td>0.5</td>\n",
       "      <td>0.5</td>\n",
       "      <td>0.0</td>\n",
       "      <td>0.0</td>\n",
       "      <td>7.5</td>\n",
       "    </tr>\n",
       "    <tr>\n",
       "      <th>2</th>\n",
       "      <td>VTS</td>\n",
       "      <td>2014-01-20 01:01:00</td>\n",
       "      <td>2014-01-20 01:04:00</td>\n",
       "      <td>2</td>\n",
       "      <td>0.98</td>\n",
       "      <td>-73.989740</td>\n",
       "      <td>40.760560</td>\n",
       "      <td>1</td>\n",
       "      <td>NaN</td>\n",
       "      <td>-73.991880</td>\n",
       "      <td>40.749930</td>\n",
       "      <td>CSH</td>\n",
       "      <td>5.0</td>\n",
       "      <td>0.5</td>\n",
       "      <td>0.5</td>\n",
       "      <td>0.0</td>\n",
       "      <td>0.0</td>\n",
       "      <td>6.0</td>\n",
       "    </tr>\n",
       "    <tr>\n",
       "      <th>3</th>\n",
       "      <td>VTS</td>\n",
       "      <td>2014-01-20 00:55:00</td>\n",
       "      <td>2014-01-20 01:10:00</td>\n",
       "      <td>6</td>\n",
       "      <td>2.87</td>\n",
       "      <td>-73.958850</td>\n",
       "      <td>40.709482</td>\n",
       "      <td>1</td>\n",
       "      <td>NaN</td>\n",
       "      <td>-73.916173</td>\n",
       "      <td>40.689455</td>\n",
       "      <td>CSH</td>\n",
       "      <td>13.0</td>\n",
       "      <td>0.5</td>\n",
       "      <td>0.5</td>\n",
       "      <td>0.0</td>\n",
       "      <td>0.0</td>\n",
       "      <td>14.0</td>\n",
       "    </tr>\n",
       "    <tr>\n",
       "      <th>4</th>\n",
       "      <td>VTS</td>\n",
       "      <td>2014-01-20 01:03:00</td>\n",
       "      <td>2014-01-20 01:10:00</td>\n",
       "      <td>1</td>\n",
       "      <td>2.04</td>\n",
       "      <td>-73.980668</td>\n",
       "      <td>40.730045</td>\n",
       "      <td>1</td>\n",
       "      <td>NaN</td>\n",
       "      <td>-73.992217</td>\n",
       "      <td>40.749160</td>\n",
       "      <td>CSH</td>\n",
       "      <td>8.5</td>\n",
       "      <td>0.5</td>\n",
       "      <td>0.5</td>\n",
       "      <td>0.0</td>\n",
       "      <td>0.0</td>\n",
       "      <td>9.5</td>\n",
       "    </tr>\n",
       "  </tbody>\n",
       "</table>\n",
       "</div>"
      ],
      "text/plain": [
       "  vendor_id      pickup_datetime     dropoff_datetime  passenger_count  \\\n",
       "0       VTS  2014-01-20 00:25:00  2014-01-20 00:59:00                6   \n",
       "1       VTS  2014-01-20 00:59:00  2014-01-20 01:04:00                2   \n",
       "2       VTS  2014-01-20 01:01:00  2014-01-20 01:04:00                2   \n",
       "3       VTS  2014-01-20 00:55:00  2014-01-20 01:10:00                6   \n",
       "4       VTS  2014-01-20 01:03:00  2014-01-20 01:10:00                1   \n",
       "\n",
       "   trip_distance  pickup_longitude  pickup_latitude  rate_code  \\\n",
       "0          14.09        -73.991490        40.754865          1   \n",
       "1           1.46        -73.989547        40.762525          1   \n",
       "2           0.98        -73.989740        40.760560          1   \n",
       "3           2.87        -73.958850        40.709482          1   \n",
       "4           2.04        -73.980668        40.730045          1   \n",
       "\n",
       "  store_and_fwd_flag  dropoff_longitude  dropoff_latitude payment_type  \\\n",
       "0                NaN         -73.851190         40.836462          CSH   \n",
       "1                NaN         -74.002425         40.744772          CSH   \n",
       "2                NaN         -73.991880         40.749930          CSH   \n",
       "3                NaN         -73.916173         40.689455          CSH   \n",
       "4                NaN         -73.992217         40.749160          CSH   \n",
       "\n",
       "   fare_amount  surcharge  mta_tax  tip_amount  tolls_amount  total_amount  \n",
       "0         42.5        0.5      0.5         0.0           0.0          43.5  \n",
       "1          6.5        0.5      0.5         0.0           0.0           7.5  \n",
       "2          5.0        0.5      0.5         0.0           0.0           6.0  \n",
       "3         13.0        0.5      0.5         0.0           0.0          14.0  \n",
       "4          8.5        0.5      0.5         0.0           0.0           9.5  "
      ]
     },
     "execution_count": 76,
     "metadata": {},
     "output_type": "execute_result"
    }
   ],
   "source": [
    "pd.read_csv(output, nrows=100).head()"
   ]
  },
  {
   "cell_type": "code",
   "execution_count": 77,
   "metadata": {},
   "outputs": [
    {
     "name": "stderr",
     "output_type": "stream",
     "text": [
      "/home/manuel/anaconda3/envs/data/lib/python3.6/site-packages/IPython/core/interactiveshell.py:3049: DtypeWarning: Columns (8) have mixed types. Specify dtype option on import or set low_memory=False.\n",
      "  interactivity=interactivity, compiler=compiler, result=result)\n"
     ]
    },
    {
     "data": {
      "text/plain": [
       "CSH    6215019\n",
       "Name: payment_type, dtype: int64"
      ]
     },
     "execution_count": 77,
     "metadata": {},
     "output_type": "execute_result"
    }
   ],
   "source": [
    "pd.read_csv(output).payment_type.value_counts()"
   ]
  },
  {
   "cell_type": "code",
   "execution_count": null,
   "metadata": {},
   "outputs": [],
   "source": []
  }
 ],
 "metadata": {
  "kernelspec": {
   "display_name": "Python 3",
   "language": "python",
   "name": "python3"
  },
  "language_info": {
   "codemirror_mode": {
    "name": "ipython",
    "version": 3
   },
   "file_extension": ".py",
   "mimetype": "text/x-python",
   "name": "python",
   "nbconvert_exporter": "python",
   "pygments_lexer": "ipython3",
   "version": "3.6.8"
  }
 },
 "nbformat": 4,
 "nbformat_minor": 2
}
