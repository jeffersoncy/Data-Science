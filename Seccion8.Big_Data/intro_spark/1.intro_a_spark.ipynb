{
 "cells": [
  {
   "cell_type": "code",
   "execution_count": 1,
   "metadata": {},
   "outputs": [
    {
     "name": "stdout",
     "output_type": "stream",
     "text": [
      "2019-05-24T11:04:40+01:00\n",
      "\n",
      "CPython 3.6.8\n",
      "IPython 7.5.0\n",
      "\n",
      "compiler   : GCC 7.3.0\n",
      "system     : Linux\n",
      "release    : 4.15.0-50-generic\n",
      "machine    : x86_64\n",
      "processor  : x86_64\n",
      "CPU cores  : 8\n",
      "interpreter: 64bit\n"
     ]
    }
   ],
   "source": [
    "%load_ext watermark\n",
    "%watermark"
   ]
  },
  {
   "cell_type": "markdown",
   "metadata": {},
   "source": [
    "Vamos a aprender a usar pyspark, que es la version de python de [Apache Spark](https://spark.apache.org/), que es la libreria más popular hoy en dia para procesado de Big Data (y está desarrollado en Java). Hay otras versiones de Spark para distintos lenguages. Además de python, Spark soporta [Java](https://spark.apache.org/docs/latest/api/java/index.html), [Scala](https://spark.apache.org/docs/latest/api/scala/index.html#package) o [R](https://spark.apache.org/docs/latest/sparkr.html).\n",
    "\n",
    "\n",
    "**Instalar spark**\n",
    "\n",
    "Dadas las dependencias de spark, es mas complicado de instalar que un paquete de python normal. En concreto necesitamos:\n",
    "\n",
    "- Java version 8\n",
    "- la libreria de spark de java instalada\n",
    "- el paquete de python pyspark (disponible en conda-forge)\n",
    "\n",
    "[Aqui](https://medium.com/datos-y-ciencia/c%C3%B3mo-usar-pyspark-en-tu-computadora-dee7978d1a40) hay un tutorial bastante decente para Linux y Mac.\n",
    "\n",
    "[Aqui](https://medium.com/@dvainrub/how-to-install-apache-spark-2-x-in-your-pc-e2047246ffc3) un tutorial para instalar en windows (en inglés)"
   ]
  },
  {
   "cell_type": "code",
   "execution_count": 1,
   "metadata": {},
   "outputs": [],
   "source": [
    "from IPython.display import Image"
   ]
  },
  {
   "cell_type": "markdown",
   "metadata": {},
   "source": [
    "Spark funciona mediante el uso de un Cluster distribuido, que no es más que un grupo de ordenadores (generalmente en la nube) que trabajan de forma conjunta, esto permite computar datasets más grandes que la memoria de cualquiera de las máquinas del cluster.\n",
    "\n",
    "Un cluster de Spark se compone de los siguientes componentes.\n",
    "\n",
    "- Driver (director): Este es el ordenador desde donde ejecutamos el codigo de Spark, probablemente nuestro ordenador personal.\n",
    "- Workers: Estas máquinas son las que se encargan de realizar las computaciones, es decir, el trabajo. Cada Worker (que es una máquina distinta) tiene múltiples Executors (ejecutores). Cada ejecutor realiza una operacion a la vez. Por ejemplo, si cada Worker tiene 4 CPUs podría tener 4 ejecutores.\n",
    "- Manager (gestor): También llamado *master*. Esta máquina se encarga de recibir peticiones del Driver y gestionar el trabajo entre los Workers (trabajadores)"
   ]
  },
  {
   "cell_type": "code",
   "execution_count": 3,
   "metadata": {},
   "outputs": [
    {
     "data": {
      "image/png": "[encoded data removed]",
      "text/plain": [
       "<IPython.core.display.Image object>"
      ]
     },
     "execution_count": 3,
     "metadata": {},
     "output_type": "execute_result"
    }
   ],
   "source": [
    "Image(\"../../media/cluster-overview.png\")"
   ]
  },
  {
   "cell_type": "markdown",
   "metadata": {},
   "source": [
    "Spark tambien funciona con un ordenador sólo, usando todos los procesadores de nuestro ordenador para crear un \"cluster\".\n",
    "\n",
    "Si queremos probar el uso de un cluster distribuido sin tener que pagar, podemos hacer uso de la versión gratuita de [DataBricks](https://community.cloud.databricks.com). Éste cluster es un cluster muy pequeño y solo dura un tiempo muy pequeño, asi que al acabar de trabajar perderemos el código que ejecutemos."
   ]
  },
  {
   "cell_type": "markdown",
   "metadata": {},
   "source": [
    "Para usar spark tenemos que crear una sesion de spark, `SparkSession`.\n",
    "\n",
    "Usamos el método `SparkSession.builder.getOrCreate()` que si no existe una sesion de spark crea una, y si no devuelve la que se ha creado, esto es así por que sólo se pùede tener una sesión de spark abierta en una aplicación (en un notebook). \n",
    "\n",
    "Al crear la sesión podemos usar multiples argumentos concadenado:\n",
    "\n",
    "- `master`: indica la direccion del manager del cluster. Si tuviesemos un cluster en la nube el master sería la ip del master. Como vamos a trabajar en local (en nuestro ordenador), usaremos `local`. Al usar como master el ordenador local podemos especificar cuantos cores queremos que use spark:\n",
    "    - con master=local, spark usa 1 solo core.\n",
    "    - con master=local[*], spark usa todos los cores de nuestro ordenador, esto significa que según que aplicaciones nos podemos quedar sin memoria (RAM).\n",
    "    - con master=local[3], (siendo 3 cualquier numero), spark usaria 3 cores como máximo.\n",
    "    \n",
    "- `appName`: indica el nombre de nuestra aplicacion. Esto es util si trabajamos con un cluster compartido donde hay múltiples trabajos de spark a la vez, para poder identificar el nuestro.\n",
    "- `config`: Spark tiene una cantida inmensa de parámetros de configuración, los clusters tienen unos valores por defecto, pero podemos modificarlos para nuestra aplicación pasandolos al crear la `SparkSession`."
   ]
  },
  {
   "cell_type": "code",
   "execution_count": 2,
   "metadata": {},
   "outputs": [],
   "source": [
    "from pyspark.sql import SparkSession\n",
    "\n",
    "spark = SparkSession.builder \\\n",
    "     .master(\"local[*]\") \\\n",
    "     .appName(\"Nuestra app\") \\\n",
    "     .config(\"spark.some.config.option\", \"some-value\") \\\n",
    "     .getOrCreate()"
   ]
  },
  {
   "cell_type": "markdown",
   "metadata": {},
   "source": [
    "Podemos ir a la interfaz web haciendo click en *Spark UI*"
   ]
  },
  {
   "cell_type": "code",
   "execution_count": 3,
   "metadata": {},
   "outputs": [
    {
     "data": {
      "text/html": [
       "\n",
       "            <div>\n",
       "                <p><b>SparkSession - in-memory</b></p>\n",
       "                \n",
       "        <div>\n",
       "            <p><b>SparkContext</b></p>\n",
       "\n",
       "            <p><a href=\"http://192.168.1.70:4040\">Spark UI</a></p>\n",
       "\n",
       "            <dl>\n",
       "              <dt>Version</dt>\n",
       "                <dd><code>v2.4.3</code></dd>\n",
       "              <dt>Master</dt>\n",
       "                <dd><code>local[*]</code></dd>\n",
       "              <dt>AppName</dt>\n",
       "                <dd><code>Nuestra app</code></dd>\n",
       "            </dl>\n",
       "        </div>\n",
       "        \n",
       "            </div>\n",
       "        "
      ],
      "text/plain": [
       "<pyspark.sql.session.SparkSession at 0x7f299a89b630>"
      ]
     },
     "execution_count": 3,
     "metadata": {},
     "output_type": "execute_result"
    }
   ],
   "source": [
    "spark"
   ]
  },
  {
   "cell_type": "markdown",
   "metadata": {},
   "source": [
    "Desde la sesión de spark, podemos leer datos de muchos tipos de inputs. Por ejemplo, podemos leer el dataset de taxis de 2014 en formato parquet:"
   ]
  },
  {
   "cell_type": "code",
   "execution_count": 4,
   "metadata": {},
   "outputs": [
    {
     "data": {
      "text/plain": [
       "DataFrame[vendor_id: string, pickup_datetime: string, dropoff_datetime: string, passenger_count: bigint, trip_distance: double, pickup_longitude: double, pickup_latitude: double, rate_code: bigint, store_and_fwd_flag: string, dropoff_longitude: double, dropoff_latitude: double, payment_type: string, fare_amount: double, surcharge: double, mta_tax: double, tip_amount: double, tolls_amount: double, total_amount: double]"
      ]
     },
     "execution_count": 4,
     "metadata": {},
     "output_type": "execute_result"
    }
   ],
   "source": [
    "taxi = (\n",
    "    spark\n",
    "    .read\n",
    "    .load(\"../data/nyc_taxi_data_2014.parquet/\")\n",
    ")\n",
    "\n",
    "taxi"
   ]
  },
  {
   "cell_type": "code",
   "execution_count": 5,
   "metadata": {},
   "outputs": [
    {
     "data": {
      "text/plain": [
       "pyspark.sql.dataframe.DataFrame"
      ]
     },
     "execution_count": 5,
     "metadata": {},
     "output_type": "execute_result"
    }
   ],
   "source": [
    "type(taxi)"
   ]
  },
  {
   "cell_type": "code",
   "execution_count": 6,
   "metadata": {},
   "outputs": [
    {
     "data": {
      "text/plain": [
       "['vendor_id',\n",
       " 'pickup_datetime',\n",
       " 'dropoff_datetime',\n",
       " 'passenger_count',\n",
       " 'trip_distance',\n",
       " 'pickup_longitude',\n",
       " 'pickup_latitude',\n",
       " 'rate_code',\n",
       " 'store_and_fwd_flag',\n",
       " 'dropoff_longitude',\n",
       " 'dropoff_latitude',\n",
       " 'payment_type',\n",
       " 'fare_amount',\n",
       " 'surcharge',\n",
       " 'mta_tax',\n",
       " 'tip_amount',\n",
       " 'tolls_amount',\n",
       " 'total_amount']"
      ]
     },
     "execution_count": 6,
     "metadata": {},
     "output_type": "execute_result"
    }
   ],
   "source": [
    "taxi.columns"
   ]
  },
  {
   "cell_type": "markdown",
   "metadata": {},
   "source": [
    "Podemos ver los tipos de datos del dataset con `printSchema()`"
   ]
  },
  {
   "cell_type": "code",
   "execution_count": 7,
   "metadata": {},
   "outputs": [
    {
     "data": {
      "text/plain": [
       "[('vendor_id', 'string'),\n",
       " ('pickup_datetime', 'string'),\n",
       " ('dropoff_datetime', 'string'),\n",
       " ('passenger_count', 'bigint'),\n",
       " ('trip_distance', 'double'),\n",
       " ('pickup_longitude', 'double'),\n",
       " ('pickup_latitude', 'double'),\n",
       " ('rate_code', 'bigint'),\n",
       " ('store_and_fwd_flag', 'string'),\n",
       " ('dropoff_longitude', 'double'),\n",
       " ('dropoff_latitude', 'double'),\n",
       " ('payment_type', 'string'),\n",
       " ('fare_amount', 'double'),\n",
       " ('surcharge', 'double'),\n",
       " ('mta_tax', 'double'),\n",
       " ('tip_amount', 'double'),\n",
       " ('tolls_amount', 'double'),\n",
       " ('total_amount', 'double')]"
      ]
     },
     "execution_count": 7,
     "metadata": {},
     "output_type": "execute_result"
    }
   ],
   "source": [
    "taxi.dtypes"
   ]
  },
  {
   "cell_type": "code",
   "execution_count": 8,
   "metadata": {},
   "outputs": [
    {
     "name": "stdout",
     "output_type": "stream",
     "text": [
      "root\n",
      " |-- vendor_id: string (nullable = true)\n",
      " |-- pickup_datetime: string (nullable = true)\n",
      " |-- dropoff_datetime: string (nullable = true)\n",
      " |-- passenger_count: long (nullable = true)\n",
      " |-- trip_distance: double (nullable = true)\n",
      " |-- pickup_longitude: double (nullable = true)\n",
      " |-- pickup_latitude: double (nullable = true)\n",
      " |-- rate_code: long (nullable = true)\n",
      " |-- store_and_fwd_flag: string (nullable = true)\n",
      " |-- dropoff_longitude: double (nullable = true)\n",
      " |-- dropoff_latitude: double (nullable = true)\n",
      " |-- payment_type: string (nullable = true)\n",
      " |-- fare_amount: double (nullable = true)\n",
      " |-- surcharge: double (nullable = true)\n",
      " |-- mta_tax: double (nullable = true)\n",
      " |-- tip_amount: double (nullable = true)\n",
      " |-- tolls_amount: double (nullable = true)\n",
      " |-- total_amount: double (nullable = true)\n",
      "\n"
     ]
    }
   ],
   "source": [
    "taxi.printSchema()"
   ]
  },
  {
   "cell_type": "markdown",
   "metadata": {},
   "source": [
    "Podemos leer tambien de csvs"
   ]
  },
  {
   "cell_type": "code",
   "execution_count": 9,
   "metadata": {},
   "outputs": [],
   "source": [
    "taxi_csv = spark.read.csv(\"../data/2017_Yellow_Taxi_Trip_Data.csv\", header=True)"
   ]
  },
  {
   "cell_type": "markdown",
   "metadata": {},
   "source": [
    "Sin embargo, ya que el formato csv no tiene tipos de datos (es texto), spark piensa que cada columna es un string por defecto"
   ]
  },
  {
   "cell_type": "code",
   "execution_count": 11,
   "metadata": {},
   "outputs": [
    {
     "data": {
      "text/plain": [
       "[('VendorID', 'string'),\n",
       " ('tpep_pickup_datetime', 'string'),\n",
       " ('tpep_dropoff_datetime', 'string'),\n",
       " ('passenger_count', 'string'),\n",
       " ('trip_distance', 'string'),\n",
       " ('RatecodeID', 'string'),\n",
       " ('store_and_fwd_flag', 'string'),\n",
       " ('PULocationID', 'string'),\n",
       " ('DOLocationID', 'string'),\n",
       " ('payment_type', 'string'),\n",
       " ('fare_amount', 'string'),\n",
       " ('extra', 'string'),\n",
       " ('mta_tax', 'string'),\n",
       " ('tip_amount', 'string'),\n",
       " ('tolls_amount', 'string'),\n",
       " ('improvement_surcharge', 'string'),\n",
       " ('total_amount', 'string')]"
      ]
     },
     "execution_count": 11,
     "metadata": {},
     "output_type": "execute_result"
    }
   ],
   "source": [
    "taxi_csv.dtypes"
   ]
  },
  {
   "cell_type": "markdown",
   "metadata": {},
   "source": [
    "Si queremos, podemos hacer que spark scanee el archivo csv para inferir (adivinar) el tipo de datos (schema), esto implica que spark tiene que leer el archivo, lo cual tarda bastante más tiempo."
   ]
  },
  {
   "cell_type": "code",
   "execution_count": 12,
   "metadata": {},
   "outputs": [
    {
     "name": "stdout",
     "output_type": "stream",
     "text": [
      "CPU times: user 20.3 ms, sys: 8.59 ms, total: 28.9 ms\n",
      "Wall time: 2min 25s\n"
     ]
    }
   ],
   "source": [
    "%%time\n",
    "taxi_csv = (spark\n",
    "                  .read\n",
    "                  .csv(\n",
    "                      \"../data/2017_Yellow_Taxi_Trip_Data.csv\",\n",
    "                      header=True,\n",
    "                      inferSchema=True\n",
    "                  ))"
   ]
  },
  {
   "cell_type": "markdown",
   "metadata": {},
   "source": [
    "Ahora los tipos de datos son correctos"
   ]
  },
  {
   "cell_type": "code",
   "execution_count": 13,
   "metadata": {},
   "outputs": [
    {
     "name": "stdout",
     "output_type": "stream",
     "text": [
      "root\n",
      " |-- VendorID: integer (nullable = true)\n",
      " |-- tpep_pickup_datetime: string (nullable = true)\n",
      " |-- tpep_dropoff_datetime: string (nullable = true)\n",
      " |-- passenger_count: double (nullable = true)\n",
      " |-- trip_distance: double (nullable = true)\n",
      " |-- RatecodeID: string (nullable = true)\n",
      " |-- store_and_fwd_flag: string (nullable = true)\n",
      " |-- PULocationID: integer (nullable = true)\n",
      " |-- DOLocationID: integer (nullable = true)\n",
      " |-- payment_type: double (nullable = true)\n",
      " |-- fare_amount: double (nullable = true)\n",
      " |-- extra: double (nullable = true)\n",
      " |-- mta_tax: double (nullable = true)\n",
      " |-- tip_amount: double (nullable = true)\n",
      " |-- tolls_amount: double (nullable = true)\n",
      " |-- improvement_surcharge: double (nullable = true)\n",
      " |-- total_amount: double (nullable = true)\n",
      "\n"
     ]
    }
   ],
   "source": [
    "taxi_csv.printSchema()"
   ]
  },
  {
   "cell_type": "markdown",
   "metadata": {},
   "source": [
    "Podemos ver las primeras filas del dataset con `.head()`"
   ]
  },
  {
   "cell_type": "code",
   "execution_count": 14,
   "metadata": {},
   "outputs": [
    {
     "data": {
      "text/plain": [
       "[Row(VendorID=2, tpep_pickup_datetime='07/14/2017 11:52:17 PM', tpep_dropoff_datetime='07/15/2017 12:26:27 AM', passenger_count=1.0, trip_distance=6.62, RatecodeID='1', store_and_fwd_flag='N', PULocationID=230, DOLocationID=116, payment_type=1.0, fare_amount=27.5, extra=0.5, mta_tax=0.5, tip_amount=2.2, tolls_amount=0.0, improvement_surcharge=0.3, total_amount=31.0),\n",
       " Row(VendorID=1, tpep_pickup_datetime='07/14/2017 11:18:35 PM', tpep_dropoff_datetime='07/14/2017 11:30:45 PM', passenger_count=1.0, trip_distance=1.1, RatecodeID='1', store_and_fwd_flag='N', PULocationID=50, DOLocationID=164, payment_type=2.0, fare_amount=9.0, extra=0.5, mta_tax=0.5, tip_amount=0.0, tolls_amount=0.0, improvement_surcharge=0.3, total_amount=10.3),\n",
       " Row(VendorID=1, tpep_pickup_datetime='07/14/2017 11:14:23 PM', tpep_dropoff_datetime='07/14/2017 11:35:33 PM', passenger_count=1.0, trip_distance=4.3, RatecodeID='1', store_and_fwd_flag='N', PULocationID=113, DOLocationID=143, payment_type=1.0, fare_amount=18.0, extra=0.5, mta_tax=0.5, tip_amount=2.0, tolls_amount=0.0, improvement_surcharge=0.3, total_amount=21.3),\n",
       " Row(VendorID=1, tpep_pickup_datetime='07/14/2017 11:05:17 PM', tpep_dropoff_datetime='07/14/2017 11:21:24 PM', passenger_count=3.0, trip_distance=1.5, RatecodeID='1', store_and_fwd_flag='N', PULocationID=79, DOLocationID=164, payment_type=1.0, fare_amount=11.0, extra=0.5, mta_tax=0.5, tip_amount=2.45, tolls_amount=0.0, improvement_surcharge=0.3, total_amount=14.75),\n",
       " Row(VendorID=1, tpep_pickup_datetime='07/14/2017 11:52:02 PM', tpep_dropoff_datetime='07/15/2017 12:07:10 AM', passenger_count=1.0, trip_distance=2.7, RatecodeID='1', store_and_fwd_flag='N', PULocationID=79, DOLocationID=162, payment_type=1.0, fare_amount=12.0, extra=0.5, mta_tax=0.5, tip_amount=0.0, tolls_amount=0.0, improvement_surcharge=0.3, total_amount=13.3)]"
      ]
     },
     "execution_count": 14,
     "metadata": {},
     "output_type": "execute_result"
    }
   ],
   "source": [
    "taxi_csv.head(5)"
   ]
  },
  {
   "cell_type": "markdown",
   "metadata": {},
   "source": [
    "head devuelve una lista de [`Rows`](https://spark.apache.org/docs/latest/api/python/pyspark.sql.html#pyspark.sql.Row), que son objetos de spark"
   ]
  },
  {
   "cell_type": "code",
   "execution_count": 15,
   "metadata": {},
   "outputs": [
    {
     "data": {
      "text/plain": [
       "Row(VendorID=2, tpep_pickup_datetime='07/14/2017 11:52:17 PM', tpep_dropoff_datetime='07/15/2017 12:26:27 AM', passenger_count=1.0, trip_distance=6.62, RatecodeID='1', store_and_fwd_flag='N', PULocationID=230, DOLocationID=116, payment_type=1.0, fare_amount=27.5, extra=0.5, mta_tax=0.5, tip_amount=2.2, tolls_amount=0.0, improvement_surcharge=0.3, total_amount=31.0)"
      ]
     },
     "execution_count": 15,
     "metadata": {},
     "output_type": "execute_result"
    }
   ],
   "source": [
    "filas = taxi_csv.head(5)\n",
    "filas[0]"
   ]
  },
  {
   "cell_type": "code",
   "execution_count": 16,
   "metadata": {},
   "outputs": [
    {
     "data": {
      "text/plain": [
       "list"
      ]
     },
     "execution_count": 16,
     "metadata": {},
     "output_type": "execute_result"
    }
   ],
   "source": [
    "type(filas)"
   ]
  },
  {
   "cell_type": "code",
   "execution_count": 17,
   "metadata": {},
   "outputs": [
    {
     "data": {
      "text/plain": [
       "pyspark.sql.types.Row"
      ]
     },
     "execution_count": 17,
     "metadata": {},
     "output_type": "execute_result"
    }
   ],
   "source": [
    "type(filas[0])"
   ]
  },
  {
   "cell_type": "code",
   "execution_count": 18,
   "metadata": {},
   "outputs": [
    {
     "data": {
      "text/plain": [
       "2"
      ]
     },
     "execution_count": 18,
     "metadata": {},
     "output_type": "execute_result"
    }
   ],
   "source": [
    "filas[0].VendorID"
   ]
  },
  {
   "cell_type": "code",
   "execution_count": 19,
   "metadata": {},
   "outputs": [
    {
     "data": {
      "text/plain": [
       "31.0"
      ]
     },
     "execution_count": 19,
     "metadata": {},
     "output_type": "execute_result"
    }
   ],
   "source": [
    "filas[0][\"total_amount\"]"
   ]
  },
  {
   "cell_type": "markdown",
   "metadata": {},
   "source": [
    "Podemos convertir un `Row` en diccionario con `asDict()`"
   ]
  },
  {
   "cell_type": "code",
   "execution_count": 20,
   "metadata": {},
   "outputs": [
    {
     "data": {
      "text/plain": [
       "{'VendorID': 2,\n",
       " 'tpep_pickup_datetime': '07/14/2017 11:52:17 PM',\n",
       " 'tpep_dropoff_datetime': '07/15/2017 12:26:27 AM',\n",
       " 'passenger_count': 1.0,\n",
       " 'trip_distance': 6.62,\n",
       " 'RatecodeID': '1',\n",
       " 'store_and_fwd_flag': 'N',\n",
       " 'PULocationID': 230,\n",
       " 'DOLocationID': 116,\n",
       " 'payment_type': 1.0,\n",
       " 'fare_amount': 27.5,\n",
       " 'extra': 0.5,\n",
       " 'mta_tax': 0.5,\n",
       " 'tip_amount': 2.2,\n",
       " 'tolls_amount': 0.0,\n",
       " 'improvement_surcharge': 0.3,\n",
       " 'total_amount': 31.0}"
      ]
     },
     "execution_count": 20,
     "metadata": {},
     "output_type": "execute_result"
    }
   ],
   "source": [
    "filas[0].asDict()"
   ]
  },
  {
   "cell_type": "code",
   "execution_count": 21,
   "metadata": {},
   "outputs": [
    {
     "name": "stdout",
     "output_type": "stream",
     "text": [
      "+--------+--------------------+---------------------+---------------+-------------+----------+------------------+------------+------------+------------+-----------+-----+-------+----------+------------+---------------------+------------+\n",
      "|VendorID|tpep_pickup_datetime|tpep_dropoff_datetime|passenger_count|trip_distance|RatecodeID|store_and_fwd_flag|PULocationID|DOLocationID|payment_type|fare_amount|extra|mta_tax|tip_amount|tolls_amount|improvement_surcharge|total_amount|\n",
      "+--------+--------------------+---------------------+---------------+-------------+----------+------------------+------------+------------+------------+-----------+-----+-------+----------+------------+---------------------+------------+\n",
      "|       2|07/14/2017 11:52:...| 07/15/2017 12:26:...|            1.0|         6.62|         1|                 N|         230|         116|         1.0|       27.5|  0.5|    0.5|       2.2|         0.0|                  0.3|        31.0|\n",
      "|       1|07/14/2017 11:18:...| 07/14/2017 11:30:...|            1.0|          1.1|         1|                 N|          50|         164|         2.0|        9.0|  0.5|    0.5|       0.0|         0.0|                  0.3|        10.3|\n",
      "|       1|07/14/2017 11:14:...| 07/14/2017 11:35:...|            1.0|          4.3|         1|                 N|         113|         143|         1.0|       18.0|  0.5|    0.5|       2.0|         0.0|                  0.3|        21.3|\n",
      "|       1|07/14/2017 11:05:...| 07/14/2017 11:21:...|            3.0|          1.5|         1|                 N|          79|         164|         1.0|       11.0|  0.5|    0.5|      2.45|         0.0|                  0.3|       14.75|\n",
      "|       1|07/14/2017 11:52:...| 07/15/2017 12:07:...|            1.0|          2.7|         1|                 N|          79|         162|         1.0|       12.0|  0.5|    0.5|       0.0|         0.0|                  0.3|        13.3|\n",
      "|       2|07/14/2017 11:10:...| 07/14/2017 11:21:...|            1.0|         2.66|         1|                 N|          87|         158|         1.0|       10.5|  0.5|    0.5|      2.36|         0.0|                  0.3|       14.16|\n",
      "|       2|07/14/2017 11:28:...| 07/14/2017 11:34:...|            1.0|         0.65|         1|                 N|          90|         158|         1.0|        5.5|  0.5|    0.5|      1.36|         0.0|                  0.3|        8.16|\n",
      "|       2|07/14/2017 11:35:...| 07/14/2017 11:49:...|            1.0|          1.6|         1|                 N|         158|         211|         1.0|       10.0|  0.5|    0.5|      2.26|         0.0|                  0.3|       13.56|\n",
      "|       2|07/14/2017 11:50:...| 07/15/2017 12:09:...|            1.0|         4.38|         1|                 N|         211|         181|         1.0|       17.0|  0.5|    0.5|      3.66|         0.0|                  0.3|       21.96|\n",
      "|       1|07/14/2017 11:09:...| 07/14/2017 11:38:...|            1.0|          7.1|         1|                 N|         114|         143|         2.0|       25.5|  0.5|    0.5|       0.0|         0.0|                  0.3|        26.8|\n",
      "|       1|07/14/2017 11:43:...| 07/14/2017 11:51:...|            1.0|          1.6|         1|                 N|         143|          48|         2.0|        8.0|  0.5|    0.5|       0.0|         0.0|                  0.3|         9.3|\n",
      "|       1|07/14/2017 11:52:...| 07/14/2017 11:58:...|            1.0|          0.7|         1|                 N|          48|          68|         2.0|        5.5|  0.5|    0.5|       0.0|         0.0|                  0.3|         6.8|\n",
      "|       1|07/14/2017 11:59:...| 07/15/2017 12:40:...|            1.0|          9.0|         1|                 N|         100|         119|         2.0|       32.5|  0.5|    0.5|       0.0|         0.0|                  0.3|        33.8|\n",
      "|       2|07/14/2017 11:41:...| 07/14/2017 11:53:...|            5.0|         1.24|         1|                 N|          79|         234|         1.0|        9.0|  0.5|    0.5|      2.06|         0.0|                  0.3|       12.36|\n",
      "|       2|07/14/2017 11:59:...| 07/15/2017 12:11:...|            5.0|         3.66|         1|                 N|         234|         263|         1.0|       12.5|  0.5|    0.5|      2.76|         0.0|                  0.3|       16.56|\n",
      "|       1|07/14/2017 11:38:...| 07/14/2017 11:50:...|            1.0|          1.6|         1|                 N|         264|         264|         1.0|        9.5|  0.5|    0.5|       2.0|         0.0|                  0.3|        12.8|\n",
      "|       1|07/14/2017 11:55:...| 07/14/2017 11:59:...|            2.0|          0.6|         1|                 N|         264|         264|         1.0|        4.5|  0.5|    0.5|      1.45|         0.0|                  0.3|        7.25|\n",
      "|       1|07/14/2017 11:02:...| 07/14/2017 11:04:...|            1.0|          0.4|         1|                 N|         261|         231|         2.0|        4.0|  0.5|    0.5|       0.0|         0.0|                  0.3|         5.3|\n",
      "|       1|07/14/2017 11:07:...| 07/14/2017 11:31:...|            1.0|          5.5|         1|                 N|         231|         255|         1.0|       22.5|  0.5|    0.5|       0.0|         0.0|                  0.3|        23.8|\n",
      "|       1|07/14/2017 11:51:...| 07/14/2017 11:56:...|            1.0|          0.5|         1|                 N|         148|          79|         2.0|        5.0|  0.5|    0.5|       0.0|         0.0|                  0.3|         6.3|\n",
      "+--------+--------------------+---------------------+---------------+-------------+----------+------------------+------------+------------+------------+-----------+-----+-------+----------+------------+---------------------+------------+\n",
      "only showing top 20 rows\n",
      "\n"
     ]
    }
   ],
   "source": [
    "taxi_csv.show()"
   ]
  },
  {
   "cell_type": "markdown",
   "metadata": {},
   "source": [
    "La funcion de spark show() es bastante limitada, podemos definir una funcion mejor"
   ]
  },
  {
   "cell_type": "code",
   "execution_count": 22,
   "metadata": {},
   "outputs": [],
   "source": [
    "import pandas as pd\n",
    "\n",
    "def show(df, n=10):\n",
    "    display(pd.DataFrame(df.head(n), columns=df.columns))"
   ]
  },
  {
   "cell_type": "code",
   "execution_count": 23,
   "metadata": {},
   "outputs": [
    {
     "data": {
      "text/html": [
       "<div>\n",
       "<style scoped>\n",
       "    .dataframe tbody tr th:only-of-type {\n",
       "        vertical-align: middle;\n",
       "    }\n",
       "\n",
       "    .dataframe tbody tr th {\n",
       "        vertical-align: top;\n",
       "    }\n",
       "\n",
       "    .dataframe thead th {\n",
       "        text-align: right;\n",
       "    }\n",
       "</style>\n",
       "<table border=\"1\" class=\"dataframe\">\n",
       "  <thead>\n",
       "    <tr style=\"text-align: right;\">\n",
       "      <th></th>\n",
       "      <th>VendorID</th>\n",
       "      <th>tpep_pickup_datetime</th>\n",
       "      <th>tpep_dropoff_datetime</th>\n",
       "      <th>passenger_count</th>\n",
       "      <th>trip_distance</th>\n",
       "      <th>RatecodeID</th>\n",
       "      <th>store_and_fwd_flag</th>\n",
       "      <th>PULocationID</th>\n",
       "      <th>DOLocationID</th>\n",
       "      <th>payment_type</th>\n",
       "      <th>fare_amount</th>\n",
       "      <th>extra</th>\n",
       "      <th>mta_tax</th>\n",
       "      <th>tip_amount</th>\n",
       "      <th>tolls_amount</th>\n",
       "      <th>improvement_surcharge</th>\n",
       "      <th>total_amount</th>\n",
       "    </tr>\n",
       "  </thead>\n",
       "  <tbody>\n",
       "    <tr>\n",
       "      <th>0</th>\n",
       "      <td>2</td>\n",
       "      <td>07/14/2017 11:52:17 PM</td>\n",
       "      <td>07/15/2017 12:26:27 AM</td>\n",
       "      <td>1.0</td>\n",
       "      <td>6.62</td>\n",
       "      <td>1</td>\n",
       "      <td>N</td>\n",
       "      <td>230</td>\n",
       "      <td>116</td>\n",
       "      <td>1.0</td>\n",
       "      <td>27.5</td>\n",
       "      <td>0.5</td>\n",
       "      <td>0.5</td>\n",
       "      <td>2.20</td>\n",
       "      <td>0.0</td>\n",
       "      <td>0.3</td>\n",
       "      <td>31.00</td>\n",
       "    </tr>\n",
       "    <tr>\n",
       "      <th>1</th>\n",
       "      <td>1</td>\n",
       "      <td>07/14/2017 11:18:35 PM</td>\n",
       "      <td>07/14/2017 11:30:45 PM</td>\n",
       "      <td>1.0</td>\n",
       "      <td>1.10</td>\n",
       "      <td>1</td>\n",
       "      <td>N</td>\n",
       "      <td>50</td>\n",
       "      <td>164</td>\n",
       "      <td>2.0</td>\n",
       "      <td>9.0</td>\n",
       "      <td>0.5</td>\n",
       "      <td>0.5</td>\n",
       "      <td>0.00</td>\n",
       "      <td>0.0</td>\n",
       "      <td>0.3</td>\n",
       "      <td>10.30</td>\n",
       "    </tr>\n",
       "    <tr>\n",
       "      <th>2</th>\n",
       "      <td>1</td>\n",
       "      <td>07/14/2017 11:14:23 PM</td>\n",
       "      <td>07/14/2017 11:35:33 PM</td>\n",
       "      <td>1.0</td>\n",
       "      <td>4.30</td>\n",
       "      <td>1</td>\n",
       "      <td>N</td>\n",
       "      <td>113</td>\n",
       "      <td>143</td>\n",
       "      <td>1.0</td>\n",
       "      <td>18.0</td>\n",
       "      <td>0.5</td>\n",
       "      <td>0.5</td>\n",
       "      <td>2.00</td>\n",
       "      <td>0.0</td>\n",
       "      <td>0.3</td>\n",
       "      <td>21.30</td>\n",
       "    </tr>\n",
       "    <tr>\n",
       "      <th>3</th>\n",
       "      <td>1</td>\n",
       "      <td>07/14/2017 11:05:17 PM</td>\n",
       "      <td>07/14/2017 11:21:24 PM</td>\n",
       "      <td>3.0</td>\n",
       "      <td>1.50</td>\n",
       "      <td>1</td>\n",
       "      <td>N</td>\n",
       "      <td>79</td>\n",
       "      <td>164</td>\n",
       "      <td>1.0</td>\n",
       "      <td>11.0</td>\n",
       "      <td>0.5</td>\n",
       "      <td>0.5</td>\n",
       "      <td>2.45</td>\n",
       "      <td>0.0</td>\n",
       "      <td>0.3</td>\n",
       "      <td>14.75</td>\n",
       "    </tr>\n",
       "    <tr>\n",
       "      <th>4</th>\n",
       "      <td>1</td>\n",
       "      <td>07/14/2017 11:52:02 PM</td>\n",
       "      <td>07/15/2017 12:07:10 AM</td>\n",
       "      <td>1.0</td>\n",
       "      <td>2.70</td>\n",
       "      <td>1</td>\n",
       "      <td>N</td>\n",
       "      <td>79</td>\n",
       "      <td>162</td>\n",
       "      <td>1.0</td>\n",
       "      <td>12.0</td>\n",
       "      <td>0.5</td>\n",
       "      <td>0.5</td>\n",
       "      <td>0.00</td>\n",
       "      <td>0.0</td>\n",
       "      <td>0.3</td>\n",
       "      <td>13.30</td>\n",
       "    </tr>\n",
       "    <tr>\n",
       "      <th>5</th>\n",
       "      <td>2</td>\n",
       "      <td>07/14/2017 11:10:32 PM</td>\n",
       "      <td>07/14/2017 11:21:39 PM</td>\n",
       "      <td>1.0</td>\n",
       "      <td>2.66</td>\n",
       "      <td>1</td>\n",
       "      <td>N</td>\n",
       "      <td>87</td>\n",
       "      <td>158</td>\n",
       "      <td>1.0</td>\n",
       "      <td>10.5</td>\n",
       "      <td>0.5</td>\n",
       "      <td>0.5</td>\n",
       "      <td>2.36</td>\n",
       "      <td>0.0</td>\n",
       "      <td>0.3</td>\n",
       "      <td>14.16</td>\n",
       "    </tr>\n",
       "    <tr>\n",
       "      <th>6</th>\n",
       "      <td>2</td>\n",
       "      <td>07/14/2017 11:28:26 PM</td>\n",
       "      <td>07/14/2017 11:34:05 PM</td>\n",
       "      <td>1.0</td>\n",
       "      <td>0.65</td>\n",
       "      <td>1</td>\n",
       "      <td>N</td>\n",
       "      <td>90</td>\n",
       "      <td>158</td>\n",
       "      <td>1.0</td>\n",
       "      <td>5.5</td>\n",
       "      <td>0.5</td>\n",
       "      <td>0.5</td>\n",
       "      <td>1.36</td>\n",
       "      <td>0.0</td>\n",
       "      <td>0.3</td>\n",
       "      <td>8.16</td>\n",
       "    </tr>\n",
       "    <tr>\n",
       "      <th>7</th>\n",
       "      <td>2</td>\n",
       "      <td>07/14/2017 11:35:49 PM</td>\n",
       "      <td>07/14/2017 11:49:25 PM</td>\n",
       "      <td>1.0</td>\n",
       "      <td>1.60</td>\n",
       "      <td>1</td>\n",
       "      <td>N</td>\n",
       "      <td>158</td>\n",
       "      <td>211</td>\n",
       "      <td>1.0</td>\n",
       "      <td>10.0</td>\n",
       "      <td>0.5</td>\n",
       "      <td>0.5</td>\n",
       "      <td>2.26</td>\n",
       "      <td>0.0</td>\n",
       "      <td>0.3</td>\n",
       "      <td>13.56</td>\n",
       "    </tr>\n",
       "    <tr>\n",
       "      <th>8</th>\n",
       "      <td>2</td>\n",
       "      <td>07/14/2017 11:50:46 PM</td>\n",
       "      <td>07/15/2017 12:09:49 AM</td>\n",
       "      <td>1.0</td>\n",
       "      <td>4.38</td>\n",
       "      <td>1</td>\n",
       "      <td>N</td>\n",
       "      <td>211</td>\n",
       "      <td>181</td>\n",
       "      <td>1.0</td>\n",
       "      <td>17.0</td>\n",
       "      <td>0.5</td>\n",
       "      <td>0.5</td>\n",
       "      <td>3.66</td>\n",
       "      <td>0.0</td>\n",
       "      <td>0.3</td>\n",
       "      <td>21.96</td>\n",
       "    </tr>\n",
       "    <tr>\n",
       "      <th>9</th>\n",
       "      <td>1</td>\n",
       "      <td>07/14/2017 11:09:20 PM</td>\n",
       "      <td>07/14/2017 11:38:52 PM</td>\n",
       "      <td>1.0</td>\n",
       "      <td>7.10</td>\n",
       "      <td>1</td>\n",
       "      <td>N</td>\n",
       "      <td>114</td>\n",
       "      <td>143</td>\n",
       "      <td>2.0</td>\n",
       "      <td>25.5</td>\n",
       "      <td>0.5</td>\n",
       "      <td>0.5</td>\n",
       "      <td>0.00</td>\n",
       "      <td>0.0</td>\n",
       "      <td>0.3</td>\n",
       "      <td>26.80</td>\n",
       "    </tr>\n",
       "  </tbody>\n",
       "</table>\n",
       "</div>"
      ],
      "text/plain": [
       "   VendorID    tpep_pickup_datetime   tpep_dropoff_datetime  passenger_count  \\\n",
       "0         2  07/14/2017 11:52:17 PM  07/15/2017 12:26:27 AM              1.0   \n",
       "1         1  07/14/2017 11:18:35 PM  07/14/2017 11:30:45 PM              1.0   \n",
       "2         1  07/14/2017 11:14:23 PM  07/14/2017 11:35:33 PM              1.0   \n",
       "3         1  07/14/2017 11:05:17 PM  07/14/2017 11:21:24 PM              3.0   \n",
       "4         1  07/14/2017 11:52:02 PM  07/15/2017 12:07:10 AM              1.0   \n",
       "5         2  07/14/2017 11:10:32 PM  07/14/2017 11:21:39 PM              1.0   \n",
       "6         2  07/14/2017 11:28:26 PM  07/14/2017 11:34:05 PM              1.0   \n",
       "7         2  07/14/2017 11:35:49 PM  07/14/2017 11:49:25 PM              1.0   \n",
       "8         2  07/14/2017 11:50:46 PM  07/15/2017 12:09:49 AM              1.0   \n",
       "9         1  07/14/2017 11:09:20 PM  07/14/2017 11:38:52 PM              1.0   \n",
       "\n",
       "   trip_distance RatecodeID store_and_fwd_flag  PULocationID  DOLocationID  \\\n",
       "0           6.62          1                  N           230           116   \n",
       "1           1.10          1                  N            50           164   \n",
       "2           4.30          1                  N           113           143   \n",
       "3           1.50          1                  N            79           164   \n",
       "4           2.70          1                  N            79           162   \n",
       "5           2.66          1                  N            87           158   \n",
       "6           0.65          1                  N            90           158   \n",
       "7           1.60          1                  N           158           211   \n",
       "8           4.38          1                  N           211           181   \n",
       "9           7.10          1                  N           114           143   \n",
       "\n",
       "   payment_type  fare_amount  extra  mta_tax  tip_amount  tolls_amount  \\\n",
       "0           1.0         27.5    0.5      0.5        2.20           0.0   \n",
       "1           2.0          9.0    0.5      0.5        0.00           0.0   \n",
       "2           1.0         18.0    0.5      0.5        2.00           0.0   \n",
       "3           1.0         11.0    0.5      0.5        2.45           0.0   \n",
       "4           1.0         12.0    0.5      0.5        0.00           0.0   \n",
       "5           1.0         10.5    0.5      0.5        2.36           0.0   \n",
       "6           1.0          5.5    0.5      0.5        1.36           0.0   \n",
       "7           1.0         10.0    0.5      0.5        2.26           0.0   \n",
       "8           1.0         17.0    0.5      0.5        3.66           0.0   \n",
       "9           2.0         25.5    0.5      0.5        0.00           0.0   \n",
       "\n",
       "   improvement_surcharge  total_amount  \n",
       "0                    0.3         31.00  \n",
       "1                    0.3         10.30  \n",
       "2                    0.3         21.30  \n",
       "3                    0.3         14.75  \n",
       "4                    0.3         13.30  \n",
       "5                    0.3         14.16  \n",
       "6                    0.3          8.16  \n",
       "7                    0.3         13.56  \n",
       "8                    0.3         21.96  \n",
       "9                    0.3         26.80  "
      ]
     },
     "metadata": {},
     "output_type": "display_data"
    }
   ],
   "source": [
    "show(taxi_csv)"
   ]
  },
  {
   "cell_type": "markdown",
   "metadata": {},
   "source": [
    "Tambien podemos guardar en formato parquet, esto tarda bastante"
   ]
  },
  {
   "cell_type": "code",
   "execution_count": 25,
   "metadata": {},
   "outputs": [
    {
     "name": "stdout",
     "output_type": "stream",
     "text": [
      "CPU times: user 33.3 ms, sys: 8.73 ms, total: 42.1 ms\n",
      "Wall time: 4min 39s\n"
     ]
    }
   ],
   "source": [
    "%time taxi_csv.write.save(\"../data/2017_Yellow_Taxi_Trip_Data.2.parquet/\", format=\"parquet\")"
   ]
  },
  {
   "cell_type": "markdown",
   "metadata": {},
   "source": [
    "Podemos leer/escribir a muchos tipos distintos de archivos"
   ]
  },
  {
   "cell_type": "code",
   "execution_count": null,
   "metadata": {},
   "outputs": [],
   "source": [
    "# json lines\n",
    "# df.write.json('./data/nyc_taxi_data_2014_small.json/')\n",
    "\n",
    "# csv, sin headers\n",
    "# df.write.csv('./data/nyc_taxi_data_2014_small.csv/')"
   ]
  },
  {
   "cell_type": "code",
   "execution_count": 26,
   "metadata": {},
   "outputs": [],
   "source": [
    "taxi = spark.read.load('../data/2017_Yellow_Taxi_Trip_Data.2.parquet/*.parquet')"
   ]
  },
  {
   "cell_type": "code",
   "execution_count": 27,
   "metadata": {},
   "outputs": [
    {
     "data": {
      "text/plain": [
       "[Row(VendorID=1, tpep_pickup_datetime='12/24/2017 09:25:13 PM', tpep_dropoff_datetime='12/24/2017 09:41:16 PM', passenger_count=1.0, trip_distance=2.6, RatecodeID='1', store_and_fwd_flag='N', PULocationID=116, DOLocationID=167, payment_type=2.0, fare_amount=13.0, extra=0.5, mta_tax=0.5, tip_amount=0.0, tolls_amount=0.0, improvement_surcharge=0.3, total_amount=14.3),\n",
       " Row(VendorID=2, tpep_pickup_datetime='12/24/2017 08:54:08 PM', tpep_dropoff_datetime='12/24/2017 09:01:12 PM', passenger_count=2.0, trip_distance=0.84, RatecodeID='1', store_and_fwd_flag='N', PULocationID=239, DOLocationID=143, payment_type=1.0, fare_amount=5.5, extra=0.5, mta_tax=0.5, tip_amount=1.0, tolls_amount=0.0, improvement_surcharge=0.3, total_amount=7.8),\n",
       " Row(VendorID=2, tpep_pickup_datetime='12/24/2017 09:02:23 PM', tpep_dropoff_datetime='12/24/2017 09:05:04 PM', passenger_count=2.0, trip_distance=0.38, RatecodeID='1', store_and_fwd_flag='N', PULocationID=143, DOLocationID=143, payment_type=1.0, fare_amount=4.0, extra=0.5, mta_tax=0.5, tip_amount=1.32, tolls_amount=0.0, improvement_surcharge=0.3, total_amount=6.62),\n",
       " Row(VendorID=2, tpep_pickup_datetime='12/24/2017 09:07:05 PM', tpep_dropoff_datetime='12/24/2017 09:09:58 PM', passenger_count=2.0, trip_distance=0.35, RatecodeID='1', store_and_fwd_flag='N', PULocationID=143, DOLocationID=239, payment_type=2.0, fare_amount=4.0, extra=0.5, mta_tax=0.5, tip_amount=0.0, tolls_amount=0.0, improvement_surcharge=0.3, total_amount=5.3),\n",
       " Row(VendorID=2, tpep_pickup_datetime='12/24/2017 09:21:05 PM', tpep_dropoff_datetime='12/24/2017 09:30:37 PM', passenger_count=2.0, trip_distance=0.72, RatecodeID='1', store_and_fwd_flag='N', PULocationID=230, DOLocationID=163, payment_type=2.0, fare_amount=7.5, extra=0.5, mta_tax=0.5, tip_amount=0.0, tolls_amount=0.0, improvement_surcharge=0.3, total_amount=8.8)]"
      ]
     },
     "execution_count": 27,
     "metadata": {},
     "output_type": "execute_result"
    }
   ],
   "source": [
    "taxi.head(5)"
   ]
  },
  {
   "cell_type": "code",
   "execution_count": 28,
   "metadata": {},
   "outputs": [
    {
     "name": "stdout",
     "output_type": "stream",
     "text": [
      "CPU times: user 1.84 ms, sys: 194 µs, total: 2.04 ms\n",
      "Wall time: 916 ms\n"
     ]
    },
    {
     "data": {
      "text/plain": [
       "113496874"
      ]
     },
     "execution_count": 28,
     "metadata": {},
     "output_type": "execute_result"
    }
   ],
   "source": [
    "%time taxi.count()"
   ]
  },
  {
   "cell_type": "markdown",
   "metadata": {},
   "source": [
    "Podemos seleccionar columnas de dos formas, la \"clásica\" es con `select:"
   ]
  },
  {
   "cell_type": "code",
   "execution_count": 29,
   "metadata": {},
   "outputs": [
    {
     "data": {
      "text/plain": [
       "Row(tip_amount=0.0, fare_amount=13.0)"
      ]
     },
     "execution_count": 29,
     "metadata": {},
     "output_type": "execute_result"
    }
   ],
   "source": [
    "taxi.select([\"tip_amount\", \"fare_amount\"]).head()"
   ]
  },
  {
   "cell_type": "markdown",
   "metadata": {},
   "source": [
    "Pero tambien podemos usar la sintaxis de pandas"
   ]
  },
  {
   "cell_type": "code",
   "execution_count": 30,
   "metadata": {},
   "outputs": [
    {
     "data": {
      "text/plain": [
       "[Row(tip_amount=0.0, fare_amount=13.0),\n",
       " Row(tip_amount=1.0, fare_amount=5.5),\n",
       " Row(tip_amount=1.32, fare_amount=4.0),\n",
       " Row(tip_amount=0.0, fare_amount=4.0),\n",
       " Row(tip_amount=0.0, fare_amount=7.5),\n",
       " Row(tip_amount=0.0, fare_amount=18.0),\n",
       " Row(tip_amount=2.95, fare_amount=13.5),\n",
       " Row(tip_amount=0.0, fare_amount=7.0),\n",
       " Row(tip_amount=0.0, fare_amount=52.0),\n",
       " Row(tip_amount=1.2, fare_amount=8.5)]"
      ]
     },
     "execution_count": 30,
     "metadata": {},
     "output_type": "execute_result"
    }
   ],
   "source": [
    "taxi[[\"tip_amount\", \"fare_amount\"\n",
    "     ]].head(10)"
   ]
  },
  {
   "cell_type": "markdown",
   "metadata": {},
   "source": [
    "Tarda menos de un segundo en contar 113 millones de filas en formato parquet"
   ]
  },
  {
   "cell_type": "markdown",
   "metadata": {},
   "source": [
    "## Resilient Distributed Datasets (RDD)\n",
    "\n",
    "Spark almacena datos usando lo que llaman RDD (Resilient Distributed Datasets, o Datasets Resilientes distribuidos):\n",
    "\n",
    "**Resiliente**, tolerante a fallos, es decir, que si tenemos datos distribuidos la perdida de una maquina en el cluster no significa que perdemos los datos almacenados en ella\n",
    "\n",
    "**Distribuido**, los datos no están solo en una máquina, sino en varias.\n",
    "\n",
    "**Dataset** un conjunto de elementos particionados\n",
    "\n",
    "Hay dos formas principales de crear RDDs: paralelizar un conjunto de elementos (una lista por ejemplo) o mediante la lectura de un dataset distribuido (por ejemplo, leyendo un monton de archivos en formato parquet."
   ]
  },
  {
   "cell_type": "code",
   "execution_count": 31,
   "metadata": {},
   "outputs": [
    {
     "data": {
      "image/png": "[encoded data removed]",
      "text/plain": [
       "<IPython.core.display.Image object>"
      ]
     },
     "execution_count": 31,
     "metadata": {},
     "output_type": "execute_result"
    }
   ],
   "source": [
    "Image(\"../../media/spark_rdd.png\")"
   ]
  },
  {
   "cell_type": "code",
   "execution_count": 32,
   "metadata": {},
   "outputs": [
    {
     "data": {
      "text/plain": [
       "MapPartitionsRDD[65] at javaToPython at NativeMethodAccessorImpl.java:0"
      ]
     },
     "execution_count": 32,
     "metadata": {},
     "output_type": "execute_result"
    }
   ],
   "source": [
    "taxi.rdd"
   ]
  },
  {
   "cell_type": "markdown",
   "metadata": {},
   "source": [
    "## Operaciones con spark dataframes"
   ]
  },
  {
   "cell_type": "code",
   "execution_count": 33,
   "metadata": {},
   "outputs": [],
   "source": [
    "mapa_columnas = {\n",
    "    \"VendorID\": \"empresa_gestora_pago\",\n",
    "    \"tpep_pickup_datetime\": \"hora_recogida\",\n",
    "    \"tpep_dropoff_datetime\": \"hora_llegada\",\n",
    "    \"passenger_count\": \"n_pasajeros\",\n",
    "    \"trip_distance\": \"distancia\",\n",
    "    \"pickup_longitude\": \"lon_recogida\",\n",
    "    \"pickup_latitude\": \"lat_recogida\",\n",
    "    \"RatecodeID\": \"codigo_tarifa\",\n",
    "    \"store_and_fwd_flag\": \"trayecto_almacenaje_en_taxi\",\n",
    "    \"dropoff_longitude\": \"lon_llegada\",\n",
    "    \"dropoff_latitude\": \"lat_llegada\",\n",
    "    \"payment_type\": \"tipo_pago\",\n",
    "    \"fare_amount\": \"tarifa\",\n",
    "    \"surcharge\": \"sobrecarga\",\n",
    "    \"mta_tax\": \"impuestos\",\n",
    "    \"tolls_amount\": \"peajes\",\n",
    "    \"total_amount\": \"coste_total\",\n",
    "    \"tip_amount\": \"propina\",\n",
    "}\n",
    "for col_original, col_nueva in mapa_columnas.items():\n",
    "    taxi = taxi.withColumnRenamed(col_original, col_nueva)"
   ]
  },
  {
   "cell_type": "code",
   "execution_count": 34,
   "metadata": {},
   "outputs": [
    {
     "data": {
      "text/plain": [
       "['empresa_gestora_pago',\n",
       " 'hora_recogida',\n",
       " 'hora_llegada',\n",
       " 'n_pasajeros',\n",
       " 'distancia',\n",
       " 'codigo_tarifa',\n",
       " 'trayecto_almacenaje_en_taxi',\n",
       " 'PULocationID',\n",
       " 'DOLocationID',\n",
       " 'tipo_pago',\n",
       " 'tarifa',\n",
       " 'extra',\n",
       " 'impuestos',\n",
       " 'propina',\n",
       " 'peajes',\n",
       " 'improvement_surcharge',\n",
       " 'coste_total']"
      ]
     },
     "execution_count": 34,
     "metadata": {},
     "output_type": "execute_result"
    }
   ],
   "source": [
    "taxi.columns"
   ]
  },
  {
   "cell_type": "code",
   "execution_count": 35,
   "metadata": {},
   "outputs": [],
   "source": [
    "coste_medio_por_n_pasajeros = taxi.where(\n",
    "                            taxi.coste_total.isNotNull()\n",
    "                        ).groupBy(\"n_pasajeros\").mean(\"coste_total\")"
   ]
  },
  {
   "cell_type": "code",
   "execution_count": 36,
   "metadata": {},
   "outputs": [
    {
     "data": {
      "text/html": [
       "<div>\n",
       "<style scoped>\n",
       "    .dataframe tbody tr th:only-of-type {\n",
       "        vertical-align: middle;\n",
       "    }\n",
       "\n",
       "    .dataframe tbody tr th {\n",
       "        vertical-align: top;\n",
       "    }\n",
       "\n",
       "    .dataframe thead th {\n",
       "        text-align: right;\n",
       "    }\n",
       "</style>\n",
       "<table border=\"1\" class=\"dataframe\">\n",
       "  <thead>\n",
       "    <tr style=\"text-align: right;\">\n",
       "      <th></th>\n",
       "      <th>n_pasajeros</th>\n",
       "      <th>avg(coste_total)</th>\n",
       "    </tr>\n",
       "  </thead>\n",
       "  <tbody>\n",
       "    <tr>\n",
       "      <th>0</th>\n",
       "      <td>8.0</td>\n",
       "      <td>53.501209</td>\n",
       "    </tr>\n",
       "    <tr>\n",
       "      <th>1</th>\n",
       "      <td>0.0</td>\n",
       "      <td>16.534555</td>\n",
       "    </tr>\n",
       "    <tr>\n",
       "      <th>2</th>\n",
       "      <td>7.0</td>\n",
       "      <td>51.014722</td>\n",
       "    </tr>\n",
       "    <tr>\n",
       "      <th>3</th>\n",
       "      <td>1.0</td>\n",
       "      <td>16.158282</td>\n",
       "    </tr>\n",
       "    <tr>\n",
       "      <th>4</th>\n",
       "      <td>4.0</td>\n",
       "      <td>16.879857</td>\n",
       "    </tr>\n",
       "    <tr>\n",
       "      <th>5</th>\n",
       "      <td>3.0</td>\n",
       "      <td>16.842591</td>\n",
       "    </tr>\n",
       "    <tr>\n",
       "      <th>6</th>\n",
       "      <td>2.0</td>\n",
       "      <td>17.037426</td>\n",
       "    </tr>\n",
       "    <tr>\n",
       "      <th>7</th>\n",
       "      <td>6.0</td>\n",
       "      <td>16.258000</td>\n",
       "    </tr>\n",
       "    <tr>\n",
       "      <th>8</th>\n",
       "      <td>5.0</td>\n",
       "      <td>16.356124</td>\n",
       "    </tr>\n",
       "    <tr>\n",
       "      <th>9</th>\n",
       "      <td>192.0</td>\n",
       "      <td>9.540000</td>\n",
       "    </tr>\n",
       "  </tbody>\n",
       "</table>\n",
       "</div>"
      ],
      "text/plain": [
       "   n_pasajeros  avg(coste_total)\n",
       "0          8.0         53.501209\n",
       "1          0.0         16.534555\n",
       "2          7.0         51.014722\n",
       "3          1.0         16.158282\n",
       "4          4.0         16.879857\n",
       "5          3.0         16.842591\n",
       "6          2.0         17.037426\n",
       "7          6.0         16.258000\n",
       "8          5.0         16.356124\n",
       "9        192.0          9.540000"
      ]
     },
     "metadata": {},
     "output_type": "display_data"
    }
   ],
   "source": [
    "show(coste_medio_por_n_pasajeros)"
   ]
  },
  {
   "cell_type": "markdown",
   "metadata": {},
   "source": [
    "## Spark SQL\n",
    "\n",
    "Podemos ejecutar sql en estos dataframes y usar el módulo `spark.sql` para ejecutar SQL directamente sobre los dataframes.\n",
    "\n",
    "Para ello tenemos que registrar \"vistas\", que son como tablas temporales de sql."
   ]
  },
  {
   "cell_type": "code",
   "execution_count": 37,
   "metadata": {},
   "outputs": [],
   "source": [
    "taxi.createOrReplaceTempView(\"viajes\")"
   ]
  },
  {
   "cell_type": "markdown",
   "metadata": {},
   "source": [
    "Una vez hemos creado estas vistas podemos usar sql."
   ]
  },
  {
   "cell_type": "code",
   "execution_count": 38,
   "metadata": {},
   "outputs": [
    {
     "data": {
      "text/html": [
       "<div>\n",
       "<style scoped>\n",
       "    .dataframe tbody tr th:only-of-type {\n",
       "        vertical-align: middle;\n",
       "    }\n",
       "\n",
       "    .dataframe tbody tr th {\n",
       "        vertical-align: top;\n",
       "    }\n",
       "\n",
       "    .dataframe thead th {\n",
       "        text-align: right;\n",
       "    }\n",
       "</style>\n",
       "<table border=\"1\" class=\"dataframe\">\n",
       "  <thead>\n",
       "    <tr style=\"text-align: right;\">\n",
       "      <th></th>\n",
       "      <th>propina_media</th>\n",
       "      <th>empresa_gestora_pago</th>\n",
       "    </tr>\n",
       "  </thead>\n",
       "  <tbody>\n",
       "    <tr>\n",
       "      <th>0</th>\n",
       "      <td>1.870723</td>\n",
       "      <td>2</td>\n",
       "    </tr>\n",
       "    <tr>\n",
       "      <th>1</th>\n",
       "      <td>1.796591</td>\n",
       "      <td>1</td>\n",
       "    </tr>\n",
       "  </tbody>\n",
       "</table>\n",
       "</div>"
      ],
      "text/plain": [
       "   propina_media  empresa_gestora_pago\n",
       "0       1.870723                     2\n",
       "1       1.796591                     1"
      ]
     },
     "metadata": {},
     "output_type": "display_data"
    }
   ],
   "source": [
    "show(spark.sql(\"\"\"\n",
    "  SELECT mean(propina) as propina_media, empresa_gestora_pago\n",
    "  FROM viajes\n",
    "  GROUP BY empresa_gestora_pago\n",
    "  ORDER BY propina_media desc\n",
    "  LIMIT 5\n",
    "\"\"\"))"
   ]
  },
  {
   "cell_type": "code",
   "execution_count": 39,
   "metadata": {},
   "outputs": [],
   "source": [
    "coste_por_n_pasajeros = spark.sql(\"\"\"\n",
    "  SELECT mean(coste_total) as coste_medio, n_pasajeros\n",
    "  FROM viajes\n",
    "  GROUP BY n_pasajeros\n",
    "  ORDER BY coste_medio desc\n",
    "\"\"\")"
   ]
  },
  {
   "cell_type": "code",
   "execution_count": 40,
   "metadata": {},
   "outputs": [
    {
     "data": {
      "text/html": [
       "<div>\n",
       "<style scoped>\n",
       "    .dataframe tbody tr th:only-of-type {\n",
       "        vertical-align: middle;\n",
       "    }\n",
       "\n",
       "    .dataframe tbody tr th {\n",
       "        vertical-align: top;\n",
       "    }\n",
       "\n",
       "    .dataframe thead th {\n",
       "        text-align: right;\n",
       "    }\n",
       "</style>\n",
       "<table border=\"1\" class=\"dataframe\">\n",
       "  <thead>\n",
       "    <tr style=\"text-align: right;\">\n",
       "      <th></th>\n",
       "      <th>coste_medio</th>\n",
       "      <th>n_pasajeros</th>\n",
       "    </tr>\n",
       "  </thead>\n",
       "  <tbody>\n",
       "    <tr>\n",
       "      <th>0</th>\n",
       "      <td>66.185134</td>\n",
       "      <td>9.0</td>\n",
       "    </tr>\n",
       "    <tr>\n",
       "      <th>1</th>\n",
       "      <td>53.501209</td>\n",
       "      <td>8.0</td>\n",
       "    </tr>\n",
       "    <tr>\n",
       "      <th>2</th>\n",
       "      <td>51.014722</td>\n",
       "      <td>7.0</td>\n",
       "    </tr>\n",
       "    <tr>\n",
       "      <th>3</th>\n",
       "      <td>17.037426</td>\n",
       "      <td>2.0</td>\n",
       "    </tr>\n",
       "    <tr>\n",
       "      <th>4</th>\n",
       "      <td>16.879857</td>\n",
       "      <td>4.0</td>\n",
       "    </tr>\n",
       "    <tr>\n",
       "      <th>5</th>\n",
       "      <td>16.842591</td>\n",
       "      <td>3.0</td>\n",
       "    </tr>\n",
       "    <tr>\n",
       "      <th>6</th>\n",
       "      <td>16.534555</td>\n",
       "      <td>0.0</td>\n",
       "    </tr>\n",
       "    <tr>\n",
       "      <th>7</th>\n",
       "      <td>16.356124</td>\n",
       "      <td>5.0</td>\n",
       "    </tr>\n",
       "    <tr>\n",
       "      <th>8</th>\n",
       "      <td>16.258000</td>\n",
       "      <td>6.0</td>\n",
       "    </tr>\n",
       "    <tr>\n",
       "      <th>9</th>\n",
       "      <td>16.158282</td>\n",
       "      <td>1.0</td>\n",
       "    </tr>\n",
       "  </tbody>\n",
       "</table>\n",
       "</div>"
      ],
      "text/plain": [
       "   coste_medio  n_pasajeros\n",
       "0    66.185134          9.0\n",
       "1    53.501209          8.0\n",
       "2    51.014722          7.0\n",
       "3    17.037426          2.0\n",
       "4    16.879857          4.0\n",
       "5    16.842591          3.0\n",
       "6    16.534555          0.0\n",
       "7    16.356124          5.0\n",
       "8    16.258000          6.0\n",
       "9    16.158282          1.0"
      ]
     },
     "metadata": {},
     "output_type": "display_data"
    },
    {
     "name": "stdout",
     "output_type": "stream",
     "text": [
      "CPU times: user 15.2 ms, sys: 3.4 ms, total: 18.6 ms\n",
      "Wall time: 5.61 s\n"
     ]
    }
   ],
   "source": [
    "%time show(coste_por_n_pasajeros)"
   ]
  },
  {
   "cell_type": "code",
   "execution_count": null,
   "metadata": {},
   "outputs": [],
   "source": []
  }
 ],
 "metadata": {
  "kernelspec": {
   "display_name": "Python 3",
   "language": "python",
   "name": "python3"
  },
  "language_info": {
   "codemirror_mode": {
    "name": "ipython",
    "version": 3
   },
   "file_extension": ".py",
   "mimetype": "text/x-python",
   "name": "python",
   "nbconvert_exporter": "python",
   "pygments_lexer": "ipython3",
   "version": "3.6.8"
  }
 },
 "nbformat": 4,
 "nbformat_minor": 2
}
